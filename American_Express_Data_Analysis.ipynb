{
  "nbformat": 4,
  "nbformat_minor": 0,
  "metadata": {
    "kernelspec": {
      "display_name": "Python 2",
      "language": "python",
      "name": "python2"
    },
    "language_info": {
      "codemirror_mode": {
        "name": "ipython",
        "version": 2
      },
      "file_extension": ".py",
      "mimetype": "text/x-python",
      "name": "python",
      "nbconvert_exporter": "python",
      "pygments_lexer": "ipython2",
      "version": "2.7.15"
    },
    "colab": {
      "name": "American Express Data Analysis.ipynb",
      "provenance": [],
      "toc_visible": true,
      "include_colab_link": true
    }
  },
  "cells": [
    {
      "cell_type": "markdown",
      "metadata": {
        "id": "view-in-github",
        "colab_type": "text"
      },
      "source": [
        "<a href=\"https://colab.research.google.com/github/ratul442/American-Express-Data-Analysis/blob/main/American_Express_Data_Analysis.ipynb\" target=\"_parent\"><img src=\"https://colab.research.google.com/assets/colab-badge.svg\" alt=\"Open In Colab\"/></a>"
      ]
    },
    {
      "cell_type": "markdown",
      "metadata": {
        "id": "vFqjH2Y8_oA8"
      },
      "source": [
        "# American Express Machine Learning Hackathon"
      ]
    },
    {
      "cell_type": "markdown",
      "metadata": {
        "id": "GdX2yVGw_oBH"
      },
      "source": [
        "American Express hosted a machine learning hackathon (https://datahack.analyticsvidhya.com/contest/american-express-amexpert-2018/). We have provided by data of clickstream of 6 days from 2 July 2017 to 7 July 2017. We have to predict depending upon the data whether a session will result in a click or not."
      ]
    },
    {
      "cell_type": "code",
      "metadata": {
        "id": "xHl42PvE_oBJ"
      },
      "source": [
        "import os\n",
        "import pandas as pd\n",
        "import numpy as np\n",
        "import seaborn as sns\n",
        "import matplotlib.pyplot as plt\n",
        "from scipy.stats import chi2_contingency"
      ],
      "execution_count": 82,
      "outputs": []
    },
    {
      "cell_type": "markdown",
      "metadata": {
        "id": "k0fk87uK_oBK"
      },
      "source": [
        "Setting up your project directory "
      ]
    },
    {
      "cell_type": "markdown",
      "metadata": {
        "id": "EKqoW2wH_oBM"
      },
      "source": [
        "Loading the train data"
      ]
    },
    {
      "cell_type": "code",
      "metadata": {
        "id": "NlExN7pi_oBN"
      },
      "source": [
        "train_df = pd.read_csv(\"/content/train.csv\")"
      ],
      "execution_count": 83,
      "outputs": []
    },
    {
      "cell_type": "code",
      "metadata": {
        "colab": {
          "base_uri": "https://localhost:8080/",
          "height": 309
        },
        "id": "wP1ygWXf_oBN",
        "outputId": "f52e4825-b0e2-439b-f5a9-ffd96bd84faa"
      },
      "source": [
        "train_df.head()"
      ],
      "execution_count": 84,
      "outputs": [
        {
          "output_type": "execute_result",
          "data": {
            "text/plain": [
              "   session_id          DateTime  user_id product  campaign_id  webpage_id  \\\n",
              "0      140690  2017-07-02 00:00   858557       C       359520       13787   \n",
              "1      333291  2017-07-02 00:00   243253       C       105960       11085   \n",
              "2      129781  2017-07-02 00:00   243253       C       359520       13787   \n",
              "3      464848  2017-07-02 00:00  1097446       I       359520       13787   \n",
              "4       90569  2017-07-02 00:01   663656       C       405490       60305   \n",
              "\n",
              "   product_category_1  product_category_2  user_group_id  gender  age_level  \\\n",
              "0                   4                 NaN           10.0  Female        4.0   \n",
              "1                   5                 NaN            8.0  Female        2.0   \n",
              "2                   4                 NaN            8.0  Female        2.0   \n",
              "3                   3                 NaN            3.0    Male        3.0   \n",
              "4                   3                 NaN            2.0    Male        2.0   \n",
              "\n",
              "   user_depth  city_development_index  var_1  is_click  \n",
              "0         3.0                     3.0      0         0  \n",
              "1         2.0                     NaN      0         0  \n",
              "2         2.0                     NaN      0         0  \n",
              "3         3.0                     2.0      1         0  \n",
              "4         3.0                     2.0      1         0  "
            ],
            "text/html": [
              "<div>\n",
              "<style scoped>\n",
              "    .dataframe tbody tr th:only-of-type {\n",
              "        vertical-align: middle;\n",
              "    }\n",
              "\n",
              "    .dataframe tbody tr th {\n",
              "        vertical-align: top;\n",
              "    }\n",
              "\n",
              "    .dataframe thead th {\n",
              "        text-align: right;\n",
              "    }\n",
              "</style>\n",
              "<table border=\"1\" class=\"dataframe\">\n",
              "  <thead>\n",
              "    <tr style=\"text-align: right;\">\n",
              "      <th></th>\n",
              "      <th>session_id</th>\n",
              "      <th>DateTime</th>\n",
              "      <th>user_id</th>\n",
              "      <th>product</th>\n",
              "      <th>campaign_id</th>\n",
              "      <th>webpage_id</th>\n",
              "      <th>product_category_1</th>\n",
              "      <th>product_category_2</th>\n",
              "      <th>user_group_id</th>\n",
              "      <th>gender</th>\n",
              "      <th>age_level</th>\n",
              "      <th>user_depth</th>\n",
              "      <th>city_development_index</th>\n",
              "      <th>var_1</th>\n",
              "      <th>is_click</th>\n",
              "    </tr>\n",
              "  </thead>\n",
              "  <tbody>\n",
              "    <tr>\n",
              "      <th>0</th>\n",
              "      <td>140690</td>\n",
              "      <td>2017-07-02 00:00</td>\n",
              "      <td>858557</td>\n",
              "      <td>C</td>\n",
              "      <td>359520</td>\n",
              "      <td>13787</td>\n",
              "      <td>4</td>\n",
              "      <td>NaN</td>\n",
              "      <td>10.0</td>\n",
              "      <td>Female</td>\n",
              "      <td>4.0</td>\n",
              "      <td>3.0</td>\n",
              "      <td>3.0</td>\n",
              "      <td>0</td>\n",
              "      <td>0</td>\n",
              "    </tr>\n",
              "    <tr>\n",
              "      <th>1</th>\n",
              "      <td>333291</td>\n",
              "      <td>2017-07-02 00:00</td>\n",
              "      <td>243253</td>\n",
              "      <td>C</td>\n",
              "      <td>105960</td>\n",
              "      <td>11085</td>\n",
              "      <td>5</td>\n",
              "      <td>NaN</td>\n",
              "      <td>8.0</td>\n",
              "      <td>Female</td>\n",
              "      <td>2.0</td>\n",
              "      <td>2.0</td>\n",
              "      <td>NaN</td>\n",
              "      <td>0</td>\n",
              "      <td>0</td>\n",
              "    </tr>\n",
              "    <tr>\n",
              "      <th>2</th>\n",
              "      <td>129781</td>\n",
              "      <td>2017-07-02 00:00</td>\n",
              "      <td>243253</td>\n",
              "      <td>C</td>\n",
              "      <td>359520</td>\n",
              "      <td>13787</td>\n",
              "      <td>4</td>\n",
              "      <td>NaN</td>\n",
              "      <td>8.0</td>\n",
              "      <td>Female</td>\n",
              "      <td>2.0</td>\n",
              "      <td>2.0</td>\n",
              "      <td>NaN</td>\n",
              "      <td>0</td>\n",
              "      <td>0</td>\n",
              "    </tr>\n",
              "    <tr>\n",
              "      <th>3</th>\n",
              "      <td>464848</td>\n",
              "      <td>2017-07-02 00:00</td>\n",
              "      <td>1097446</td>\n",
              "      <td>I</td>\n",
              "      <td>359520</td>\n",
              "      <td>13787</td>\n",
              "      <td>3</td>\n",
              "      <td>NaN</td>\n",
              "      <td>3.0</td>\n",
              "      <td>Male</td>\n",
              "      <td>3.0</td>\n",
              "      <td>3.0</td>\n",
              "      <td>2.0</td>\n",
              "      <td>1</td>\n",
              "      <td>0</td>\n",
              "    </tr>\n",
              "    <tr>\n",
              "      <th>4</th>\n",
              "      <td>90569</td>\n",
              "      <td>2017-07-02 00:01</td>\n",
              "      <td>663656</td>\n",
              "      <td>C</td>\n",
              "      <td>405490</td>\n",
              "      <td>60305</td>\n",
              "      <td>3</td>\n",
              "      <td>NaN</td>\n",
              "      <td>2.0</td>\n",
              "      <td>Male</td>\n",
              "      <td>2.0</td>\n",
              "      <td>3.0</td>\n",
              "      <td>2.0</td>\n",
              "      <td>1</td>\n",
              "      <td>0</td>\n",
              "    </tr>\n",
              "  </tbody>\n",
              "</table>\n",
              "</div>"
            ]
          },
          "metadata": {
            "tags": []
          },
          "execution_count": 84
        }
      ]
    },
    {
      "cell_type": "code",
      "metadata": {
        "colab": {
          "base_uri": "https://localhost:8080/",
          "height": 317
        },
        "id": "xuUldcts_oBP",
        "outputId": "6dc9ac98-0eaa-457f-ab61-ecef509a0a01"
      },
      "source": [
        "train_df.describe()"
      ],
      "execution_count": 85,
      "outputs": [
        {
          "output_type": "execute_result",
          "data": {
            "text/plain": [
              "          session_id       user_id    campaign_id     webpage_id  \\\n",
              "count  463291.000000  4.632910e+05  463291.000000  463291.000000   \n",
              "mean   285544.090725  5.460497e+05  308474.540069   29685.878994   \n",
              "std    168577.345887  3.294625e+05  126517.101294   21542.053106   \n",
              "min         2.000000  4.000000e+00   82320.000000    1734.000000   \n",
              "25%    137856.500000  2.578550e+05  118601.000000   13787.000000   \n",
              "50%    285429.000000  5.318010e+05  359520.000000   13787.000000   \n",
              "75%    435535.500000  8.278490e+05  405490.000000   53587.000000   \n",
              "max    595812.000000  1.141729e+06  414149.000000   60305.000000   \n",
              "\n",
              "       product_category_1  product_category_2  user_group_id      age_level  \\\n",
              "count       463291.000000        97437.000000  445048.000000  445048.000000   \n",
              "mean             3.072427       162753.345105       3.477396       2.782266   \n",
              "std              1.304233        78743.742720       2.412889       1.069701   \n",
              "min              1.000000        18595.000000       0.000000       0.000000   \n",
              "25%              2.000000        82527.000000       2.000000       2.000000   \n",
              "50%              3.000000       146115.000000       3.000000       3.000000   \n",
              "75%              4.000000       254132.000000       4.000000       3.000000   \n",
              "max              5.000000       450184.000000      12.000000       6.000000   \n",
              "\n",
              "          user_depth  city_development_index          var_1       is_click  \n",
              "count  445048.000000           338162.000000  463291.000000  463291.000000  \n",
              "mean        2.878415                2.557121       0.422169       0.067627  \n",
              "std         0.400130                0.921345       0.493906       0.251105  \n",
              "min         1.000000                1.000000       0.000000       0.000000  \n",
              "25%         3.000000                2.000000       0.000000       0.000000  \n",
              "50%         3.000000                2.000000       0.000000       0.000000  \n",
              "75%         3.000000                3.000000       1.000000       0.000000  \n",
              "max         3.000000                4.000000       1.000000       1.000000  "
            ],
            "text/html": [
              "<div>\n",
              "<style scoped>\n",
              "    .dataframe tbody tr th:only-of-type {\n",
              "        vertical-align: middle;\n",
              "    }\n",
              "\n",
              "    .dataframe tbody tr th {\n",
              "        vertical-align: top;\n",
              "    }\n",
              "\n",
              "    .dataframe thead th {\n",
              "        text-align: right;\n",
              "    }\n",
              "</style>\n",
              "<table border=\"1\" class=\"dataframe\">\n",
              "  <thead>\n",
              "    <tr style=\"text-align: right;\">\n",
              "      <th></th>\n",
              "      <th>session_id</th>\n",
              "      <th>user_id</th>\n",
              "      <th>campaign_id</th>\n",
              "      <th>webpage_id</th>\n",
              "      <th>product_category_1</th>\n",
              "      <th>product_category_2</th>\n",
              "      <th>user_group_id</th>\n",
              "      <th>age_level</th>\n",
              "      <th>user_depth</th>\n",
              "      <th>city_development_index</th>\n",
              "      <th>var_1</th>\n",
              "      <th>is_click</th>\n",
              "    </tr>\n",
              "  </thead>\n",
              "  <tbody>\n",
              "    <tr>\n",
              "      <th>count</th>\n",
              "      <td>463291.000000</td>\n",
              "      <td>4.632910e+05</td>\n",
              "      <td>463291.000000</td>\n",
              "      <td>463291.000000</td>\n",
              "      <td>463291.000000</td>\n",
              "      <td>97437.000000</td>\n",
              "      <td>445048.000000</td>\n",
              "      <td>445048.000000</td>\n",
              "      <td>445048.000000</td>\n",
              "      <td>338162.000000</td>\n",
              "      <td>463291.000000</td>\n",
              "      <td>463291.000000</td>\n",
              "    </tr>\n",
              "    <tr>\n",
              "      <th>mean</th>\n",
              "      <td>285544.090725</td>\n",
              "      <td>5.460497e+05</td>\n",
              "      <td>308474.540069</td>\n",
              "      <td>29685.878994</td>\n",
              "      <td>3.072427</td>\n",
              "      <td>162753.345105</td>\n",
              "      <td>3.477396</td>\n",
              "      <td>2.782266</td>\n",
              "      <td>2.878415</td>\n",
              "      <td>2.557121</td>\n",
              "      <td>0.422169</td>\n",
              "      <td>0.067627</td>\n",
              "    </tr>\n",
              "    <tr>\n",
              "      <th>std</th>\n",
              "      <td>168577.345887</td>\n",
              "      <td>3.294625e+05</td>\n",
              "      <td>126517.101294</td>\n",
              "      <td>21542.053106</td>\n",
              "      <td>1.304233</td>\n",
              "      <td>78743.742720</td>\n",
              "      <td>2.412889</td>\n",
              "      <td>1.069701</td>\n",
              "      <td>0.400130</td>\n",
              "      <td>0.921345</td>\n",
              "      <td>0.493906</td>\n",
              "      <td>0.251105</td>\n",
              "    </tr>\n",
              "    <tr>\n",
              "      <th>min</th>\n",
              "      <td>2.000000</td>\n",
              "      <td>4.000000e+00</td>\n",
              "      <td>82320.000000</td>\n",
              "      <td>1734.000000</td>\n",
              "      <td>1.000000</td>\n",
              "      <td>18595.000000</td>\n",
              "      <td>0.000000</td>\n",
              "      <td>0.000000</td>\n",
              "      <td>1.000000</td>\n",
              "      <td>1.000000</td>\n",
              "      <td>0.000000</td>\n",
              "      <td>0.000000</td>\n",
              "    </tr>\n",
              "    <tr>\n",
              "      <th>25%</th>\n",
              "      <td>137856.500000</td>\n",
              "      <td>2.578550e+05</td>\n",
              "      <td>118601.000000</td>\n",
              "      <td>13787.000000</td>\n",
              "      <td>2.000000</td>\n",
              "      <td>82527.000000</td>\n",
              "      <td>2.000000</td>\n",
              "      <td>2.000000</td>\n",
              "      <td>3.000000</td>\n",
              "      <td>2.000000</td>\n",
              "      <td>0.000000</td>\n",
              "      <td>0.000000</td>\n",
              "    </tr>\n",
              "    <tr>\n",
              "      <th>50%</th>\n",
              "      <td>285429.000000</td>\n",
              "      <td>5.318010e+05</td>\n",
              "      <td>359520.000000</td>\n",
              "      <td>13787.000000</td>\n",
              "      <td>3.000000</td>\n",
              "      <td>146115.000000</td>\n",
              "      <td>3.000000</td>\n",
              "      <td>3.000000</td>\n",
              "      <td>3.000000</td>\n",
              "      <td>2.000000</td>\n",
              "      <td>0.000000</td>\n",
              "      <td>0.000000</td>\n",
              "    </tr>\n",
              "    <tr>\n",
              "      <th>75%</th>\n",
              "      <td>435535.500000</td>\n",
              "      <td>8.278490e+05</td>\n",
              "      <td>405490.000000</td>\n",
              "      <td>53587.000000</td>\n",
              "      <td>4.000000</td>\n",
              "      <td>254132.000000</td>\n",
              "      <td>4.000000</td>\n",
              "      <td>3.000000</td>\n",
              "      <td>3.000000</td>\n",
              "      <td>3.000000</td>\n",
              "      <td>1.000000</td>\n",
              "      <td>0.000000</td>\n",
              "    </tr>\n",
              "    <tr>\n",
              "      <th>max</th>\n",
              "      <td>595812.000000</td>\n",
              "      <td>1.141729e+06</td>\n",
              "      <td>414149.000000</td>\n",
              "      <td>60305.000000</td>\n",
              "      <td>5.000000</td>\n",
              "      <td>450184.000000</td>\n",
              "      <td>12.000000</td>\n",
              "      <td>6.000000</td>\n",
              "      <td>3.000000</td>\n",
              "      <td>4.000000</td>\n",
              "      <td>1.000000</td>\n",
              "      <td>1.000000</td>\n",
              "    </tr>\n",
              "  </tbody>\n",
              "</table>\n",
              "</div>"
            ]
          },
          "metadata": {
            "tags": []
          },
          "execution_count": 85
        }
      ]
    },
    {
      "cell_type": "code",
      "metadata": {
        "colab": {
          "base_uri": "https://localhost:8080/"
        },
        "id": "799WPek7_oBQ",
        "outputId": "e5f99d6d-391f-4a86-9d26-d6cf3b6bd3db"
      },
      "source": [
        "train_df.info()"
      ],
      "execution_count": 86,
      "outputs": [
        {
          "output_type": "stream",
          "text": [
            "<class 'pandas.core.frame.DataFrame'>\n",
            "RangeIndex: 463291 entries, 0 to 463290\n",
            "Data columns (total 15 columns):\n",
            "session_id                463291 non-null int64\n",
            "DateTime                  463291 non-null object\n",
            "user_id                   463291 non-null int64\n",
            "product                   463291 non-null object\n",
            "campaign_id               463291 non-null int64\n",
            "webpage_id                463291 non-null int64\n",
            "product_category_1        463291 non-null int64\n",
            "product_category_2        97437 non-null float64\n",
            "user_group_id             445048 non-null float64\n",
            "gender                    445048 non-null object\n",
            "age_level                 445048 non-null float64\n",
            "user_depth                445048 non-null float64\n",
            "city_development_index    338162 non-null float64\n",
            "var_1                     463291 non-null int64\n",
            "is_click                  463291 non-null int64\n",
            "dtypes: float64(5), int64(7), object(3)\n",
            "memory usage: 53.0+ MB\n"
          ],
          "name": "stdout"
        }
      ]
    },
    {
      "cell_type": "code",
      "metadata": {
        "colab": {
          "base_uri": "https://localhost:8080/"
        },
        "id": "Sy_0ziRv_oBR",
        "outputId": "930dbb76-b3cd-4b9a-ea35-5ac33c5beb7f"
      },
      "source": [
        "train_df.shape"
      ],
      "execution_count": 87,
      "outputs": [
        {
          "output_type": "execute_result",
          "data": {
            "text/plain": [
              "(463291, 15)"
            ]
          },
          "metadata": {
            "tags": []
          },
          "execution_count": 87
        }
      ]
    },
    {
      "cell_type": "markdown",
      "metadata": {
        "id": "oBH0Ea_w_oBS"
      },
      "source": [
        "The train data has 15 variables and 463291 observations. "
      ]
    },
    {
      "cell_type": "code",
      "metadata": {
        "colab": {
          "base_uri": "https://localhost:8080/"
        },
        "id": "ElYYQpGk_oBT",
        "outputId": "754ced52-d123-4ae7-ddff-346a6e00ec3d"
      },
      "source": [
        "train_df.groupby('is_click')['session_id'].count()"
      ],
      "execution_count": 88,
      "outputs": [
        {
          "output_type": "execute_result",
          "data": {
            "text/plain": [
              "is_click\n",
              "0    431960\n",
              "1     31331\n",
              "Name: session_id, dtype: int64"
            ]
          },
          "metadata": {
            "tags": []
          },
          "execution_count": 88
        }
      ]
    },
    {
      "cell_type": "markdown",
      "metadata": {
        "id": "y-XF0pAs_oBU"
      },
      "source": [
        "###### We have imbalance target class \n",
        "We need to use upscalling technique's or gradient boosting technique's"
      ]
    },
    {
      "cell_type": "markdown",
      "metadata": {
        "id": "g-z6V2wy_oBU"
      },
      "source": [
        "## Missing Value Analysis\n",
        "The list below determines the percentage of observation missing in every variable."
      ]
    },
    {
      "cell_type": "code",
      "metadata": {
        "colab": {
          "base_uri": "https://localhost:8080/"
        },
        "id": "zAXo-5iR_oBV",
        "outputId": "cc50ea4b-b133-4e6d-c1b9-aad1e1ff637a"
      },
      "source": [
        "missing_data = (((train_df.isnull().sum())*100)/len(train_df))\n",
        "missing_data"
      ],
      "execution_count": 89,
      "outputs": [
        {
          "output_type": "execute_result",
          "data": {
            "text/plain": [
              "session_id                 0.000000\n",
              "DateTime                   0.000000\n",
              "user_id                    0.000000\n",
              "product                    0.000000\n",
              "campaign_id                0.000000\n",
              "webpage_id                 0.000000\n",
              "product_category_1         0.000000\n",
              "product_category_2        78.968510\n",
              "user_group_id              3.937698\n",
              "gender                     3.937698\n",
              "age_level                  3.937698\n",
              "user_depth                 3.937698\n",
              "city_development_index    27.008727\n",
              "var_1                      0.000000\n",
              "is_click                   0.000000\n",
              "dtype: float64"
            ]
          },
          "metadata": {
            "tags": []
          },
          "execution_count": 89
        }
      ]
    },
    {
      "cell_type": "markdown",
      "metadata": {
        "id": "_exD2N44_oBV"
      },
      "source": [
        "#### Remove all observations where gender is missing\n",
        "since we have more than one values missing in those observations."
      ]
    },
    {
      "cell_type": "code",
      "metadata": {
        "id": "0doz7_ey_oBW"
      },
      "source": [
        "train_df = train_df[train_df['gender'].notnull()]"
      ],
      "execution_count": 90,
      "outputs": []
    },
    {
      "cell_type": "markdown",
      "metadata": {
        "id": "SVhz4aDf_oBW"
      },
      "source": [
        "######  Analysing product_category_2 : \n",
        "Delete Product Category since missing values % > 30%"
      ]
    },
    {
      "cell_type": "code",
      "metadata": {
        "id": "inzE1VLD_oBX"
      },
      "source": [
        "train_df = train_df.drop(['product_category_2'], axis = 1)"
      ],
      "execution_count": 91,
      "outputs": []
    },
    {
      "cell_type": "markdown",
      "metadata": {
        "id": "2wdeDIMt_oBX"
      },
      "source": [
        "\n",
        "###### Analysing Development Index :\n",
        "No pattern found so we'll delete all observation having is_click = 0 and impute median having is_click = 1"
      ]
    },
    {
      "cell_type": "code",
      "metadata": {
        "id": "ecPVHSZF_oBX"
      },
      "source": [
        "train_df = train_df[-((train_df['city_development_index'].isnull()) & (train_df['is_click'] == 0))]"
      ],
      "execution_count": 92,
      "outputs": []
    },
    {
      "cell_type": "code",
      "metadata": {
        "colab": {
          "base_uri": "https://localhost:8080/"
        },
        "id": "IYYHf6F8_oBX",
        "outputId": "e677ae9a-d183-4ca2-cdfa-d6d3a4269159"
      },
      "source": [
        "train_df.shape"
      ],
      "execution_count": 93,
      "outputs": [
        {
          "output_type": "execute_result",
          "data": {
            "text/plain": [
              "(345370, 14)"
            ]
          },
          "metadata": {
            "tags": []
          },
          "execution_count": 93
        }
      ]
    },
    {
      "cell_type": "code",
      "metadata": {
        "colab": {
          "base_uri": "https://localhost:8080/"
        },
        "id": "Jz1WeHiM_oBY",
        "outputId": "a9291149-1c92-4dfc-859c-3deb071b8d09"
      },
      "source": [
        "missing_data = (((train_df.isnull().sum())*100)/len(train_df))\n",
        "missing_data"
      ],
      "execution_count": 94,
      "outputs": [
        {
          "output_type": "execute_result",
          "data": {
            "text/plain": [
              "session_id                0.000000\n",
              "DateTime                  0.000000\n",
              "user_id                   0.000000\n",
              "product                   0.000000\n",
              "campaign_id               0.000000\n",
              "webpage_id                0.000000\n",
              "product_category_1        0.000000\n",
              "user_group_id             0.000000\n",
              "gender                    0.000000\n",
              "age_level                 0.000000\n",
              "user_depth                0.000000\n",
              "city_development_index    2.087037\n",
              "var_1                     0.000000\n",
              "is_click                  0.000000\n",
              "dtype: float64"
            ]
          },
          "metadata": {
            "tags": []
          },
          "execution_count": 94
        }
      ]
    },
    {
      "cell_type": "markdown",
      "metadata": {
        "id": "aGQcSl6Z_oBY"
      },
      "source": [
        "###### Imputing 'city_development_index'\n",
        "Imputing it with median"
      ]
    },
    {
      "cell_type": "code",
      "metadata": {
        "id": "8-IVzc6Z_oBY"
      },
      "source": [
        "train_df['city_development_index'].loc[train_df['city_development_index'].isnull()]= 2.0"
      ],
      "execution_count": 95,
      "outputs": []
    },
    {
      "cell_type": "code",
      "metadata": {
        "colab": {
          "base_uri": "https://localhost:8080/"
        },
        "id": "hOztXOBg_oBZ",
        "outputId": "526252da-6edf-4042-a9d2-b468f45b1715"
      },
      "source": [
        "missing_data = (((train_df.isnull().sum())*100)/len(train_df))\n",
        "missing_data"
      ],
      "execution_count": 96,
      "outputs": [
        {
          "output_type": "execute_result",
          "data": {
            "text/plain": [
              "session_id                0.0\n",
              "DateTime                  0.0\n",
              "user_id                   0.0\n",
              "product                   0.0\n",
              "campaign_id               0.0\n",
              "webpage_id                0.0\n",
              "product_category_1        0.0\n",
              "user_group_id             0.0\n",
              "gender                    0.0\n",
              "age_level                 0.0\n",
              "user_depth                0.0\n",
              "city_development_index    0.0\n",
              "var_1                     0.0\n",
              "is_click                  0.0\n",
              "dtype: float64"
            ]
          },
          "metadata": {
            "tags": []
          },
          "execution_count": 96
        }
      ]
    },
    {
      "cell_type": "markdown",
      "metadata": {
        "id": "vSJ6Frtg_oBZ"
      },
      "source": [
        "###### All missing values have been taken care of"
      ]
    },
    {
      "cell_type": "markdown",
      "metadata": {
        "id": "qaB5Ad3v_oBZ"
      },
      "source": [
        "# Outlier Analysis \n",
        "Do Outlier Analysis after Upscaling"
      ]
    },
    {
      "cell_type": "code",
      "metadata": {
        "id": "7WKb8azq_oBa"
      },
      "source": [
        "cnames = []\n",
        "catnames = []\n",
        "for i in train_df.columns:\n",
        "    if train_df[i].dtype == 'float64' or train_df[i].dtype == 'int64':\n",
        "        cnames.append(i)\n",
        "    \n",
        "    if train_df[i].dtype == 'object':\n",
        "        catnames.append(i)"
      ],
      "execution_count": 97,
      "outputs": []
    },
    {
      "cell_type": "code",
      "metadata": {
        "colab": {
          "base_uri": "https://localhost:8080/",
          "height": 1000
        },
        "id": "9zj-bl16_oBa",
        "outputId": "48d32773-c429-4069-b3d4-781253b53154"
      },
      "source": [
        "# #Plotting Box Plot\n",
        "for i in cnames:\n",
        "    plt.figure()\n",
        "    plt.clf() #clearing the figure\n",
        "    sns.boxplot(train_df[i],palette=\"deep\")\n",
        "    plt.title(i)\n",
        "    plt.show()"
      ],
      "execution_count": 98,
      "outputs": [
        {
          "output_type": "display_data",
          "data": {
            "image/png": "[encoded data removed]",
            "text/plain": [
              "<Figure size 432x288 with 1 Axes>"
            ]
          },
          "metadata": {
            "tags": [],
            "needs_background": "light"
          }
        },
        {
          "output_type": "display_data",
          "data": {
            "image/png": "[encoded data removed]",
            "text/plain": [
              "<Figure size 432x288 with 1 Axes>"
            ]
          },
          "metadata": {
            "tags": [],
            "needs_background": "light"
          }
        },
        {
          "output_type": "display_data",
          "data": {
            "image/png": "[encoded data removed]",
            "text/plain": [
              "<Figure size 432x288 with 1 Axes>"
            ]
          },
          "metadata": {
            "tags": [],
            "needs_background": "light"
          }
        },
        {
          "output_type": "display_data",
          "data": {
            "image/png": "[encoded data removed]",
            "text/plain": [
              "<Figure size 432x288 with 1 Axes>"
            ]
          },
          "metadata": {
            "tags": [],
            "needs_background": "light"
          }
        },
        {
          "output_type": "display_data",
          "data": {
            "image/png": "[encoded data removed]",
            "text/plain": [
              "<Figure size 432x288 with 1 Axes>"
            ]
          },
          "metadata": {
            "tags": [],
            "needs_background": "light"
          }
        },
        {
          "output_type": "display_data",
          "data": {
            "image/png": "[encoded data removed]",
            "text/plain": [
              "<Figure size 432x288 with 1 Axes>"
            ]
          },
          "metadata": {
            "tags": [],
            "needs_background": "light"
          }
        },
        {
          "output_type": "display_data",
          "data": {
            "image/png": "[encoded data removed]",
            "text/plain": [
              "<Figure size 432x288 with 1 Axes>"
            ]
          },
          "metadata": {
            "tags": [],
            "needs_background": "light"
          }
        },
        {
          "output_type": "display_data",
          "data": {
            "image/png": "[encoded data removed]",
            "text/plain": [
              "<Figure size 432x288 with 1 Axes>"
            ]
          },
          "metadata": {
            "tags": [],
            "needs_background": "light"
          }
        },
        {
          "output_type": "display_data",
          "data": {
            "image/png": "[encoded data removed]",
            "text/plain": [
              "<Figure size 432x288 with 1 Axes>"
            ]
          },
          "metadata": {
            "tags": [],
            "needs_background": "light"
          }
        },
        {
          "output_type": "display_data",
          "data": {
            "image/png": "[encoded data removed]",
            "text/plain": [
              "<Figure size 432x288 with 1 Axes>"
            ]
          },
          "metadata": {
            "tags": [],
            "needs_background": "light"
          }
        },
        {
          "output_type": "display_data",
          "data": {
            "image/png": "[encoded data removed]",
            "text/plain": [
              "<Figure size 432x288 with 1 Axes>"
            ]
          },
          "metadata": {
            "tags": [],
            "needs_background": "light"
          }
        }
      ]
    },
    {
      "cell_type": "markdown",
      "metadata": {
        "id": "PizzabGd_oBa"
      },
      "source": [
        "###### Since we have an imbalance in target class, We'll do the outlier analysis later after upscaling."
      ]
    },
    {
      "cell_type": "markdown",
      "metadata": {
        "id": "z1-QitiW_oBb"
      },
      "source": [
        "## Feature Selection"
      ]
    },
    {
      "cell_type": "markdown",
      "metadata": {
        "id": "R51-_91D_oBb"
      },
      "source": [
        "#### Correlation Plot "
      ]
    },
    {
      "cell_type": "code",
      "metadata": {
        "colab": {
          "base_uri": "https://localhost:8080/",
          "height": 724
        },
        "id": "k8iGWpqT_oBb",
        "outputId": "1dd522d2-cb8d-46dd-86ae-a8c72e6b480e"
      },
      "source": [
        "#Set the width and hieght of the plot\n",
        "df_corr = train_df.loc[:,cnames]\n",
        "\n",
        "f, ax = plt.subplots(figsize=(15, 10))\n",
        "\n",
        "#Generate correlation matrix\n",
        "corr = df_corr.corr()\n",
        "\n",
        "#Plot using seaborn library\n",
        "sns.heatmap(corr, mask=np.zeros_like(corr, dtype=np.bool), cmap=sns.diverging_palette(220, 10, as_cmap=True),\n",
        "            square=True, ax=ax,annot = True)"
      ],
      "execution_count": 175,
      "outputs": [
        {
          "output_type": "execute_result",
          "data": {
            "text/plain": [
              "<matplotlib.axes._subplots.AxesSubplot at 0x7f1fb1d91590>"
            ]
          },
          "metadata": {
            "tags": []
          },
          "execution_count": 175
        },
        {
          "output_type": "display_data",
          "data": {
            "image/png": "[encoded data removed]",
            "text/plain": [
              "<Figure size 1080x720 with 2 Axes>"
            ]
          },
          "metadata": {
            "tags": [],
            "needs_background": "light"
          }
        }
      ]
    },
    {
      "cell_type": "markdown",
      "metadata": {
        "id": "zIMOmEdY_oBc"
      },
      "source": [
        "###### Correlation Matrix does'nt shows any significance correlation between the variables."
      ]
    },
    {
      "cell_type": "code",
      "metadata": {
        "colab": {
          "base_uri": "https://localhost:8080/"
        },
        "id": "ygyX1Pli_oBc",
        "outputId": "1c870276-c2b5-4bb3-f18e-1018754cc350"
      },
      "source": [
        "#loop for chi square values\n",
        "for i in catnames:\n",
        "    print(i)\n",
        "    chi2, p, dof, ex = chi2_contingency(pd.crosstab(train_df['is_click'], train_df[i]))\n",
        "    print(p)"
      ],
      "execution_count": 100,
      "outputs": [
        {
          "output_type": "stream",
          "text": [
            "DateTime\n",
            "1.8982190908263574e-08\n",
            "product\n",
            "1.4920498213715828e-63\n",
            "gender\n",
            "0.05592863701141619\n"
          ],
          "name": "stdout"
        }
      ]
    },
    {
      "cell_type": "markdown",
      "metadata": {
        "id": "FWeQyzt1_oBc"
      },
      "source": [
        "###### Chi2 test for categoric variables\n",
        "since the gender pvalue is >0.05 we'll drop gender variable since it doesn't contributes much"
      ]
    },
    {
      "cell_type": "code",
      "metadata": {
        "id": "O75bnkCp_oBc"
      },
      "source": [
        "train_df = train_df.drop(['gender'], axis = 1)\n"
      ],
      "execution_count": 101,
      "outputs": []
    },
    {
      "cell_type": "markdown",
      "metadata": {
        "id": "yYgYSbTp_oBd"
      },
      "source": [
        "## Feature Engineering\n",
        "Feature Engineering DataTime Column. Since the data is only for 6 days over which the year and month is same we will replace the column with the below mentioned columns:\n",
        "\n",
        "1. day_of_the_week\n",
        "2. is_holiday\n",
        "3. hour"
      ]
    },
    {
      "cell_type": "code",
      "metadata": {
        "colab": {
          "base_uri": "https://localhost:8080/",
          "height": 309
        },
        "id": "mUvgenep_oBd",
        "outputId": "c28c659c-940d-4dbd-ab4e-f733e31fbbf0"
      },
      "source": [
        "from datetime import datetime\n",
        " \n",
        "day_of_week = lambda x: datetime.strptime(x, \"%Y-%m-%d %H:%M\" ).weekday()\n",
        "train_df['day_of_week'] = train_df['DateTime'].map(day_of_week)\n",
        "train_df.head()"
      ],
      "execution_count": 102,
      "outputs": [
        {
          "output_type": "execute_result",
          "data": {
            "text/plain": [
              "   session_id          DateTime  user_id product  campaign_id  webpage_id  \\\n",
              "0      140690  2017-07-02 00:00   858557       C       359520       13787   \n",
              "3      464848  2017-07-02 00:00  1097446       I       359520       13787   \n",
              "4       90569  2017-07-02 00:01   663656       C       405490       60305   \n",
              "6       17583  2017-07-02 00:01  1091463       F       405490       60305   \n",
              "7      461128  2017-07-02 00:01   469098       C       360936       13787   \n",
              "\n",
              "   product_category_1  user_group_id  age_level  user_depth  \\\n",
              "0                   4           10.0        4.0         3.0   \n",
              "3                   3            3.0        3.0         3.0   \n",
              "4                   3            2.0        2.0         3.0   \n",
              "6                   3            9.0        3.0         3.0   \n",
              "7                   3            4.0        4.0         3.0   \n",
              "\n",
              "   city_development_index  var_1  is_click  day_of_week  \n",
              "0                     3.0      0         0            6  \n",
              "3                     2.0      1         0            6  \n",
              "4                     2.0      1         0            6  \n",
              "6                     4.0      0         0            6  \n",
              "7                     4.0      0         0            6  "
            ],
            "text/html": [
              "<div>\n",
              "<style scoped>\n",
              "    .dataframe tbody tr th:only-of-type {\n",
              "        vertical-align: middle;\n",
              "    }\n",
              "\n",
              "    .dataframe tbody tr th {\n",
              "        vertical-align: top;\n",
              "    }\n",
              "\n",
              "    .dataframe thead th {\n",
              "        text-align: right;\n",
              "    }\n",
              "</style>\n",
              "<table border=\"1\" class=\"dataframe\">\n",
              "  <thead>\n",
              "    <tr style=\"text-align: right;\">\n",
              "      <th></th>\n",
              "      <th>session_id</th>\n",
              "      <th>DateTime</th>\n",
              "      <th>user_id</th>\n",
              "      <th>product</th>\n",
              "      <th>campaign_id</th>\n",
              "      <th>webpage_id</th>\n",
              "      <th>product_category_1</th>\n",
              "      <th>user_group_id</th>\n",
              "      <th>age_level</th>\n",
              "      <th>user_depth</th>\n",
              "      <th>city_development_index</th>\n",
              "      <th>var_1</th>\n",
              "      <th>is_click</th>\n",
              "      <th>day_of_week</th>\n",
              "    </tr>\n",
              "  </thead>\n",
              "  <tbody>\n",
              "    <tr>\n",
              "      <th>0</th>\n",
              "      <td>140690</td>\n",
              "      <td>2017-07-02 00:00</td>\n",
              "      <td>858557</td>\n",
              "      <td>C</td>\n",
              "      <td>359520</td>\n",
              "      <td>13787</td>\n",
              "      <td>4</td>\n",
              "      <td>10.0</td>\n",
              "      <td>4.0</td>\n",
              "      <td>3.0</td>\n",
              "      <td>3.0</td>\n",
              "      <td>0</td>\n",
              "      <td>0</td>\n",
              "      <td>6</td>\n",
              "    </tr>\n",
              "    <tr>\n",
              "      <th>3</th>\n",
              "      <td>464848</td>\n",
              "      <td>2017-07-02 00:00</td>\n",
              "      <td>1097446</td>\n",
              "      <td>I</td>\n",
              "      <td>359520</td>\n",
              "      <td>13787</td>\n",
              "      <td>3</td>\n",
              "      <td>3.0</td>\n",
              "      <td>3.0</td>\n",
              "      <td>3.0</td>\n",
              "      <td>2.0</td>\n",
              "      <td>1</td>\n",
              "      <td>0</td>\n",
              "      <td>6</td>\n",
              "    </tr>\n",
              "    <tr>\n",
              "      <th>4</th>\n",
              "      <td>90569</td>\n",
              "      <td>2017-07-02 00:01</td>\n",
              "      <td>663656</td>\n",
              "      <td>C</td>\n",
              "      <td>405490</td>\n",
              "      <td>60305</td>\n",
              "      <td>3</td>\n",
              "      <td>2.0</td>\n",
              "      <td>2.0</td>\n",
              "      <td>3.0</td>\n",
              "      <td>2.0</td>\n",
              "      <td>1</td>\n",
              "      <td>0</td>\n",
              "      <td>6</td>\n",
              "    </tr>\n",
              "    <tr>\n",
              "      <th>6</th>\n",
              "      <td>17583</td>\n",
              "      <td>2017-07-02 00:01</td>\n",
              "      <td>1091463</td>\n",
              "      <td>F</td>\n",
              "      <td>405490</td>\n",
              "      <td>60305</td>\n",
              "      <td>3</td>\n",
              "      <td>9.0</td>\n",
              "      <td>3.0</td>\n",
              "      <td>3.0</td>\n",
              "      <td>4.0</td>\n",
              "      <td>0</td>\n",
              "      <td>0</td>\n",
              "      <td>6</td>\n",
              "    </tr>\n",
              "    <tr>\n",
              "      <th>7</th>\n",
              "      <td>461128</td>\n",
              "      <td>2017-07-02 00:01</td>\n",
              "      <td>469098</td>\n",
              "      <td>C</td>\n",
              "      <td>360936</td>\n",
              "      <td>13787</td>\n",
              "      <td>3</td>\n",
              "      <td>4.0</td>\n",
              "      <td>4.0</td>\n",
              "      <td>3.0</td>\n",
              "      <td>4.0</td>\n",
              "      <td>0</td>\n",
              "      <td>0</td>\n",
              "      <td>6</td>\n",
              "    </tr>\n",
              "  </tbody>\n",
              "</table>\n",
              "</div>"
            ]
          },
          "metadata": {
            "tags": []
          },
          "execution_count": 102
        }
      ]
    },
    {
      "cell_type": "code",
      "metadata": {
        "colab": {
          "base_uri": "https://localhost:8080/",
          "height": 309
        },
        "id": "S85jRvMW_oBe",
        "outputId": "c09354cb-5234-4cb0-d4df-8f3efd1b6c7d"
      },
      "source": [
        "time = lambda x: datetime.strptime(x, \"%Y-%m-%d %H:%M\").time()\n",
        "train_df['time'] = train_df['DateTime'].map(time)\n",
        "train_df.head()"
      ],
      "execution_count": 103,
      "outputs": [
        {
          "output_type": "execute_result",
          "data": {
            "text/plain": [
              "   session_id          DateTime  user_id product  campaign_id  webpage_id  \\\n",
              "0      140690  2017-07-02 00:00   858557       C       359520       13787   \n",
              "3      464848  2017-07-02 00:00  1097446       I       359520       13787   \n",
              "4       90569  2017-07-02 00:01   663656       C       405490       60305   \n",
              "6       17583  2017-07-02 00:01  1091463       F       405490       60305   \n",
              "7      461128  2017-07-02 00:01   469098       C       360936       13787   \n",
              "\n",
              "   product_category_1  user_group_id  age_level  user_depth  \\\n",
              "0                   4           10.0        4.0         3.0   \n",
              "3                   3            3.0        3.0         3.0   \n",
              "4                   3            2.0        2.0         3.0   \n",
              "6                   3            9.0        3.0         3.0   \n",
              "7                   3            4.0        4.0         3.0   \n",
              "\n",
              "   city_development_index  var_1  is_click  day_of_week      time  \n",
              "0                     3.0      0         0            6  00:00:00  \n",
              "3                     2.0      1         0            6  00:00:00  \n",
              "4                     2.0      1         0            6  00:01:00  \n",
              "6                     4.0      0         0            6  00:01:00  \n",
              "7                     4.0      0         0            6  00:01:00  "
            ],
            "text/html": [
              "<div>\n",
              "<style scoped>\n",
              "    .dataframe tbody tr th:only-of-type {\n",
              "        vertical-align: middle;\n",
              "    }\n",
              "\n",
              "    .dataframe tbody tr th {\n",
              "        vertical-align: top;\n",
              "    }\n",
              "\n",
              "    .dataframe thead th {\n",
              "        text-align: right;\n",
              "    }\n",
              "</style>\n",
              "<table border=\"1\" class=\"dataframe\">\n",
              "  <thead>\n",
              "    <tr style=\"text-align: right;\">\n",
              "      <th></th>\n",
              "      <th>session_id</th>\n",
              "      <th>DateTime</th>\n",
              "      <th>user_id</th>\n",
              "      <th>product</th>\n",
              "      <th>campaign_id</th>\n",
              "      <th>webpage_id</th>\n",
              "      <th>product_category_1</th>\n",
              "      <th>user_group_id</th>\n",
              "      <th>age_level</th>\n",
              "      <th>user_depth</th>\n",
              "      <th>city_development_index</th>\n",
              "      <th>var_1</th>\n",
              "      <th>is_click</th>\n",
              "      <th>day_of_week</th>\n",
              "      <th>time</th>\n",
              "    </tr>\n",
              "  </thead>\n",
              "  <tbody>\n",
              "    <tr>\n",
              "      <th>0</th>\n",
              "      <td>140690</td>\n",
              "      <td>2017-07-02 00:00</td>\n",
              "      <td>858557</td>\n",
              "      <td>C</td>\n",
              "      <td>359520</td>\n",
              "      <td>13787</td>\n",
              "      <td>4</td>\n",
              "      <td>10.0</td>\n",
              "      <td>4.0</td>\n",
              "      <td>3.0</td>\n",
              "      <td>3.0</td>\n",
              "      <td>0</td>\n",
              "      <td>0</td>\n",
              "      <td>6</td>\n",
              "      <td>00:00:00</td>\n",
              "    </tr>\n",
              "    <tr>\n",
              "      <th>3</th>\n",
              "      <td>464848</td>\n",
              "      <td>2017-07-02 00:00</td>\n",
              "      <td>1097446</td>\n",
              "      <td>I</td>\n",
              "      <td>359520</td>\n",
              "      <td>13787</td>\n",
              "      <td>3</td>\n",
              "      <td>3.0</td>\n",
              "      <td>3.0</td>\n",
              "      <td>3.0</td>\n",
              "      <td>2.0</td>\n",
              "      <td>1</td>\n",
              "      <td>0</td>\n",
              "      <td>6</td>\n",
              "      <td>00:00:00</td>\n",
              "    </tr>\n",
              "    <tr>\n",
              "      <th>4</th>\n",
              "      <td>90569</td>\n",
              "      <td>2017-07-02 00:01</td>\n",
              "      <td>663656</td>\n",
              "      <td>C</td>\n",
              "      <td>405490</td>\n",
              "      <td>60305</td>\n",
              "      <td>3</td>\n",
              "      <td>2.0</td>\n",
              "      <td>2.0</td>\n",
              "      <td>3.0</td>\n",
              "      <td>2.0</td>\n",
              "      <td>1</td>\n",
              "      <td>0</td>\n",
              "      <td>6</td>\n",
              "      <td>00:01:00</td>\n",
              "    </tr>\n",
              "    <tr>\n",
              "      <th>6</th>\n",
              "      <td>17583</td>\n",
              "      <td>2017-07-02 00:01</td>\n",
              "      <td>1091463</td>\n",
              "      <td>F</td>\n",
              "      <td>405490</td>\n",
              "      <td>60305</td>\n",
              "      <td>3</td>\n",
              "      <td>9.0</td>\n",
              "      <td>3.0</td>\n",
              "      <td>3.0</td>\n",
              "      <td>4.0</td>\n",
              "      <td>0</td>\n",
              "      <td>0</td>\n",
              "      <td>6</td>\n",
              "      <td>00:01:00</td>\n",
              "    </tr>\n",
              "    <tr>\n",
              "      <th>7</th>\n",
              "      <td>461128</td>\n",
              "      <td>2017-07-02 00:01</td>\n",
              "      <td>469098</td>\n",
              "      <td>C</td>\n",
              "      <td>360936</td>\n",
              "      <td>13787</td>\n",
              "      <td>3</td>\n",
              "      <td>4.0</td>\n",
              "      <td>4.0</td>\n",
              "      <td>3.0</td>\n",
              "      <td>4.0</td>\n",
              "      <td>0</td>\n",
              "      <td>0</td>\n",
              "      <td>6</td>\n",
              "      <td>00:01:00</td>\n",
              "    </tr>\n",
              "  </tbody>\n",
              "</table>\n",
              "</div>"
            ]
          },
          "metadata": {
            "tags": []
          },
          "execution_count": 103
        }
      ]
    },
    {
      "cell_type": "code",
      "metadata": {
        "id": "tniOpg3q_oBf"
      },
      "source": [
        "#function  to return wether it's a weekday or weekend\n",
        "def is_weekend(x):\n",
        "    if x['day_of_week'] < 5 :\n",
        "        return 0 \n",
        "    else:\n",
        "        return 1"
      ],
      "execution_count": 104,
      "outputs": []
    },
    {
      "cell_type": "code",
      "metadata": {
        "id": "IIGQcIzb_oBf"
      },
      "source": [
        "train_df['is_weekend'] = train_df.apply(lambda row: is_weekend(row),axis=1)"
      ],
      "execution_count": 105,
      "outputs": []
    },
    {
      "cell_type": "markdown",
      "metadata": {
        "id": "Wg66ytNq_oBg"
      },
      "source": [
        "#### Coverting Time into Hour Clusters\n",
        "Figuring out in which hours was maxim clicks done\n"
      ]
    },
    {
      "cell_type": "markdown",
      "metadata": {
        "id": "OBRat0qy_oBg"
      },
      "source": [
        "Initialising seperate dataframe to understand the relation between 'is_click' and 'hour'"
      ]
    },
    {
      "cell_type": "code",
      "metadata": {
        "id": "vzAN5jLA_oBg"
      },
      "source": [
        "click_by_time = pd.DataFrame(train_df.groupby('time')['is_click'].sum())"
      ],
      "execution_count": 106,
      "outputs": []
    },
    {
      "cell_type": "code",
      "metadata": {
        "scrolled": true,
        "colab": {
          "base_uri": "https://localhost:8080/",
          "height": 204
        },
        "id": "if-fOxZn_oBh",
        "outputId": "a7377ce1-b2d4-480d-d32b-7dd356b66328"
      },
      "source": [
        "click_by_time = click_by_time.reset_index()\n",
        "click_by_time.head()"
      ],
      "execution_count": 107,
      "outputs": [
        {
          "output_type": "execute_result",
          "data": {
            "text/plain": [
              "       time  is_click\n",
              "0  00:00:00         2\n",
              "1  00:01:00         1\n",
              "2  00:02:00         8\n",
              "3  00:03:00         0\n",
              "4  00:04:00         3"
            ],
            "text/html": [
              "<div>\n",
              "<style scoped>\n",
              "    .dataframe tbody tr th:only-of-type {\n",
              "        vertical-align: middle;\n",
              "    }\n",
              "\n",
              "    .dataframe tbody tr th {\n",
              "        vertical-align: top;\n",
              "    }\n",
              "\n",
              "    .dataframe thead th {\n",
              "        text-align: right;\n",
              "    }\n",
              "</style>\n",
              "<table border=\"1\" class=\"dataframe\">\n",
              "  <thead>\n",
              "    <tr style=\"text-align: right;\">\n",
              "      <th></th>\n",
              "      <th>time</th>\n",
              "      <th>is_click</th>\n",
              "    </tr>\n",
              "  </thead>\n",
              "  <tbody>\n",
              "    <tr>\n",
              "      <th>0</th>\n",
              "      <td>00:00:00</td>\n",
              "      <td>2</td>\n",
              "    </tr>\n",
              "    <tr>\n",
              "      <th>1</th>\n",
              "      <td>00:01:00</td>\n",
              "      <td>1</td>\n",
              "    </tr>\n",
              "    <tr>\n",
              "      <th>2</th>\n",
              "      <td>00:02:00</td>\n",
              "      <td>8</td>\n",
              "    </tr>\n",
              "    <tr>\n",
              "      <th>3</th>\n",
              "      <td>00:03:00</td>\n",
              "      <td>0</td>\n",
              "    </tr>\n",
              "    <tr>\n",
              "      <th>4</th>\n",
              "      <td>00:04:00</td>\n",
              "      <td>3</td>\n",
              "    </tr>\n",
              "  </tbody>\n",
              "</table>\n",
              "</div>"
            ]
          },
          "metadata": {
            "tags": []
          },
          "execution_count": 107
        }
      ]
    },
    {
      "cell_type": "markdown",
      "metadata": {
        "id": "RlkGYmQ0_oBh"
      },
      "source": [
        "Extracting the hour from time column of click_by_time dataframe"
      ]
    },
    {
      "cell_type": "code",
      "metadata": {
        "id": "kQoN-nir_oBh"
      },
      "source": [
        "click_by_time['time'] = pd.to_datetime(click_by_time['time'], format=\"%H:%M:%S\")\n",
        "click_by_time['click_hour'] = click_by_time.time.dt.hour"
      ],
      "execution_count": 108,
      "outputs": []
    },
    {
      "cell_type": "markdown",
      "metadata": {
        "id": "IfRk5kOo_oBh"
      },
      "source": [
        "Converting time column back to object and only keeping time values"
      ]
    },
    {
      "cell_type": "code",
      "metadata": {
        "id": "0U3jl5XO_oBi"
      },
      "source": [
        "click_by_time['time'] = click_by_time.time.dt.strftime('%H:%M:%S')"
      ],
      "execution_count": 109,
      "outputs": []
    },
    {
      "cell_type": "code",
      "metadata": {
        "colab": {
          "base_uri": "https://localhost:8080/"
        },
        "id": "SeMeod0o_oBi",
        "outputId": "61b8e934-c44f-4f3f-d862-a3e0d89b6e53"
      },
      "source": [
        "click_by_time.info()"
      ],
      "execution_count": 110,
      "outputs": [
        {
          "output_type": "stream",
          "text": [
            "<class 'pandas.core.frame.DataFrame'>\n",
            "RangeIndex: 1440 entries, 0 to 1439\n",
            "Data columns (total 3 columns):\n",
            "time          1440 non-null object\n",
            "is_click      1440 non-null int64\n",
            "click_hour    1440 non-null int64\n",
            "dtypes: int64(2), object(1)\n",
            "memory usage: 33.8+ KB\n"
          ],
          "name": "stdout"
        }
      ]
    },
    {
      "cell_type": "code",
      "metadata": {
        "colab": {
          "base_uri": "https://localhost:8080/"
        },
        "id": "RBc7XY23_oBi",
        "outputId": "cf0e9878-0068-4d63-e269-7ab115a98d04"
      },
      "source": [
        "click_by_time.groupby('click_hour')['is_click'].sum()"
      ],
      "execution_count": 111,
      "outputs": [
        {
          "output_type": "execute_result",
          "data": {
            "text/plain": [
              "click_hour\n",
              "0      143\n",
              "1      113\n",
              "2       75\n",
              "3      299\n",
              "4      576\n",
              "5      966\n",
              "6     1458\n",
              "7     1737\n",
              "8     1734\n",
              "9     1686\n",
              "10    1974\n",
              "11    1837\n",
              "12    1656\n",
              "13    1596\n",
              "14    1630\n",
              "15    1433\n",
              "16    1393\n",
              "17    1444\n",
              "18    1706\n",
              "19    2093\n",
              "20    2282\n",
              "21    1426\n",
              "22     551\n",
              "23     249\n",
              "Name: is_click, dtype: int64"
            ]
          },
          "metadata": {
            "tags": []
          },
          "execution_count": 111
        }
      ]
    },
    {
      "cell_type": "code",
      "metadata": {
        "id": "N9_g5kZA_oBi"
      },
      "source": [
        "train_df['DateTime'] = pd.to_datetime(train_df['DateTime'], format=\"%Y-%m-%d %H:%M\")\n",
        "train_df['hour'] = train_df.DateTime.dt.hour"
      ],
      "execution_count": 112,
      "outputs": []
    },
    {
      "cell_type": "code",
      "metadata": {
        "id": "zCcczPEO_oBj"
      },
      "source": [
        "train_df = train_df[['DateTime','day_of_week','is_weekend','hour','user_id','product','campaign_id','webpage_id','product_category_1','user_group_id','age_level','user_depth',\n",
        "                     'city_development_index','var_1','is_click',]]"
      ],
      "execution_count": 113,
      "outputs": []
    },
    {
      "cell_type": "code",
      "metadata": {
        "id": "bUfE5RF5_oBj"
      },
      "source": [
        "cnames = []\n",
        "catnames = []\n",
        "for i in train_df.columns:\n",
        "    if train_df[i].dtype == 'float64' or train_df[i].dtype == 'int64':\n",
        "        cnames.append(i)\n",
        "    \n",
        "    if train_df[i].dtype == 'object':\n",
        "        catnames.append(i)"
      ],
      "execution_count": 114,
      "outputs": []
    },
    {
      "cell_type": "code",
      "metadata": {
        "id": "w8FDDUeh_oBj"
      },
      "source": [
        "train_df = train_df.drop(['DateTime'], axis = 1)"
      ],
      "execution_count": 115,
      "outputs": []
    },
    {
      "cell_type": "markdown",
      "metadata": {
        "id": "VLkoT7M3_oBj"
      },
      "source": [
        "## Model Development"
      ]
    },
    {
      "cell_type": "code",
      "metadata": {
        "id": "NMzuFLQm_oBj"
      },
      "source": [
        "X = train_df.iloc[:, 0:13].values\n",
        "y = train_df.iloc[:, 13].values"
      ],
      "execution_count": 116,
      "outputs": []
    },
    {
      "cell_type": "code",
      "metadata": {
        "colab": {
          "base_uri": "https://localhost:8080/"
        },
        "id": "YifarsUDFEY8",
        "outputId": "fa058b7b-4827-4044-e00b-f4a89532276b"
      },
      "source": [
        "X"
      ],
      "execution_count": 117,
      "outputs": [
        {
          "output_type": "execute_result",
          "data": {
            "text/plain": [
              "array([[6, 1, 0, ..., 3.0, 3.0, 0],\n",
              "       [6, 1, 0, ..., 3.0, 2.0, 1],\n",
              "       [6, 1, 0, ..., 3.0, 2.0, 1],\n",
              "       ...,\n",
              "       [4, 0, 23, ..., 3.0, 2.0, 0],\n",
              "       [4, 0, 23, ..., 3.0, 2.0, 1],\n",
              "       [4, 0, 23, ..., 3.0, 4.0, 0]], dtype=object)"
            ]
          },
          "metadata": {
            "tags": []
          },
          "execution_count": 117
        }
      ]
    },
    {
      "cell_type": "code",
      "metadata": {
        "colab": {
          "base_uri": "https://localhost:8080/"
        },
        "id": "_VtFXSvG_oBk",
        "outputId": "b1d4d91c-745b-4975-fc2c-2f63c4e784c6"
      },
      "source": [
        "# Encoding categorical data\n",
        "from sklearn.preprocessing import LabelEncoder, OneHotEncoder\n",
        "labelencoder_X_1 = LabelEncoder()\n",
        "X[:, 4] = labelencoder_X_1.fit_transform(X[:, 4])\n",
        "\n",
        "onehotencoder = OneHotEncoder(categorical_features = [1])\n",
        "X = onehotencoder.fit_transform(X).toarray()\n",
        "X = X[:, 1:]\n",
        "X"
      ],
      "execution_count": 118,
      "outputs": [
        {
          "output_type": "stream",
          "text": [
            "/usr/local/lib/python2.7/dist-packages/sklearn/preprocessing/_encoders.py:392: DeprecationWarning: The 'categorical_features' keyword is deprecated in version 0.20 and will be removed in 0.22. You can use the ColumnTransformer instead.\n",
            "  \"use the ColumnTransformer instead.\", DeprecationWarning)\n"
          ],
          "name": "stderr"
        },
        {
          "output_type": "execute_result",
          "data": {
            "text/plain": [
              "array([[ 1.,  6.,  0., ...,  3.,  3.,  0.],\n",
              "       [ 1.,  6.,  0., ...,  3.,  2.,  1.],\n",
              "       [ 1.,  6.,  0., ...,  3.,  2.,  1.],\n",
              "       ...,\n",
              "       [ 0.,  4., 23., ...,  3.,  2.,  0.],\n",
              "       [ 0.,  4., 23., ...,  3.,  2.,  1.],\n",
              "       [ 0.,  4., 23., ...,  3.,  4.,  0.]])"
            ]
          },
          "metadata": {
            "tags": []
          },
          "execution_count": 118
        }
      ]
    },
    {
      "cell_type": "code",
      "metadata": {
        "colab": {
          "base_uri": "https://localhost:8080/"
        },
        "id": "UlkEFpdB_oBk",
        "outputId": "ac40d975-8c11-4838-ea92-ad5dc2d7be01"
      },
      "source": [
        "# Splitting the dataset into the Training set and Test set\n",
        "from sklearn.model_selection import train_test_split\n",
        "X_train, X_test, y_train, y_test = train_test_split(X, y, test_size = 0.2, random_state = 0)\n",
        "\n",
        "# Fitting XGBoost to the Training set\n",
        "import xgboost\n",
        "classifier = xgboost.XGBClassifier()\n",
        "classifier.fit(X_train, y_train)\n",
        "\n",
        "# Predicting the Test set results\n",
        "y_pred = classifier.predict(X_test)\n",
        "\n",
        "# Making the Confusion Matrix\n",
        "from sklearn.metrics import confusion_matrix\n",
        "cm = confusion_matrix(y_test, y_pred)\n",
        "\n",
        "# Applying k-Fold Cross Validation\n",
        "from sklearn.model_selection import cross_val_score\n",
        "accuracies = cross_val_score(estimator = classifier, X = X_train, y = y_train, cv = 10)\n",
        "accuracies.mean()\n",
        "accuracies.std()"
      ],
      "execution_count": 119,
      "outputs": [
        {
          "output_type": "execute_result",
          "data": {
            "text/plain": [
              "0.0003752242931181148"
            ]
          },
          "metadata": {
            "tags": []
          },
          "execution_count": 119
        }
      ]
    },
    {
      "cell_type": "code",
      "metadata": {
        "colab": {
          "base_uri": "https://localhost:8080/"
        },
        "id": "FDa5JHLwH1NQ",
        "outputId": "17f59bf5-a99a-4b15-dd3e-4bb094eea167"
      },
      "source": [
        "accuracies.std()"
      ],
      "execution_count": 120,
      "outputs": [
        {
          "output_type": "execute_result",
          "data": {
            "text/plain": [
              "0.0003752242931181148"
            ]
          },
          "metadata": {
            "tags": []
          },
          "execution_count": 120
        }
      ]
    },
    {
      "cell_type": "code",
      "metadata": {
        "colab": {
          "base_uri": "https://localhost:8080/"
        },
        "id": "jBwlYxbm_oBk",
        "outputId": "3bb07b1b-8f40-4209-893f-cda69088c301"
      },
      "source": [
        "accuracies.mean()"
      ],
      "execution_count": 121,
      "outputs": [
        {
          "output_type": "execute_result",
          "data": {
            "text/plain": [
              "0.9156520587016288"
            ]
          },
          "metadata": {
            "tags": []
          },
          "execution_count": 121
        }
      ]
    },
    {
      "cell_type": "markdown",
      "metadata": {
        "id": "1DMMqheG_oBk"
      },
      "source": [
        "# Predicting the final output"
      ]
    },
    {
      "cell_type": "code",
      "metadata": {
        "id": "ioftjZaXOkW4"
      },
      "source": [
        "test = pd.read_csv(\"/content/test.csv\")"
      ],
      "execution_count": 160,
      "outputs": []
    },
    {
      "cell_type": "code",
      "metadata": {
        "id": "sFI2-ZT0_oBl"
      },
      "source": [
        "test_df = pd.read_csv('/content/test.csv')"
      ],
      "execution_count": 122,
      "outputs": []
    },
    {
      "cell_type": "code",
      "metadata": {
        "colab": {
          "base_uri": "https://localhost:8080/",
          "height": 309
        },
        "id": "8SJiqZYg_oBl",
        "outputId": "c0b8fc01-9bbd-486d-f0b2-76f4a4b496a7"
      },
      "source": [
        "test_df.head()"
      ],
      "execution_count": 123,
      "outputs": [
        {
          "output_type": "execute_result",
          "data": {
            "text/plain": [
              "   session_id          DateTime  user_id product  campaign_id  webpage_id  \\\n",
              "0      411705  2017-07-08 00:00   732573       J       404347       53587   \n",
              "1      208263  2017-07-08 00:00   172910       I       118601       28529   \n",
              "2      239450  2017-07-08 00:00   172910       I       118601       28529   \n",
              "3      547761  2017-07-08 00:00   557318       G       118601       28529   \n",
              "4      574275  2017-07-08 00:00   923896       H       118601       28529   \n",
              "\n",
              "   product_category_1  product_category_2  user_group_id  gender  age_level  \\\n",
              "0                   1                 NaN            5.0    Male        5.0   \n",
              "1                   3             82527.0            NaN     NaN        NaN   \n",
              "2                   4             82527.0            NaN     NaN        NaN   \n",
              "3                   5             82527.0            1.0    Male        1.0   \n",
              "4                   5             82527.0            9.0  Female        3.0   \n",
              "\n",
              "   user_depth  city_development_index  var_1  \n",
              "0         3.0                     NaN      0  \n",
              "1         NaN                     NaN      1  \n",
              "2         NaN                     NaN      1  \n",
              "3         3.0                     1.0      0  \n",
              "4         1.0                     NaN      1  "
            ],
            "text/html": [
              "<div>\n",
              "<style scoped>\n",
              "    .dataframe tbody tr th:only-of-type {\n",
              "        vertical-align: middle;\n",
              "    }\n",
              "\n",
              "    .dataframe tbody tr th {\n",
              "        vertical-align: top;\n",
              "    }\n",
              "\n",
              "    .dataframe thead th {\n",
              "        text-align: right;\n",
              "    }\n",
              "</style>\n",
              "<table border=\"1\" class=\"dataframe\">\n",
              "  <thead>\n",
              "    <tr style=\"text-align: right;\">\n",
              "      <th></th>\n",
              "      <th>session_id</th>\n",
              "      <th>DateTime</th>\n",
              "      <th>user_id</th>\n",
              "      <th>product</th>\n",
              "      <th>campaign_id</th>\n",
              "      <th>webpage_id</th>\n",
              "      <th>product_category_1</th>\n",
              "      <th>product_category_2</th>\n",
              "      <th>user_group_id</th>\n",
              "      <th>gender</th>\n",
              "      <th>age_level</th>\n",
              "      <th>user_depth</th>\n",
              "      <th>city_development_index</th>\n",
              "      <th>var_1</th>\n",
              "    </tr>\n",
              "  </thead>\n",
              "  <tbody>\n",
              "    <tr>\n",
              "      <th>0</th>\n",
              "      <td>411705</td>\n",
              "      <td>2017-07-08 00:00</td>\n",
              "      <td>732573</td>\n",
              "      <td>J</td>\n",
              "      <td>404347</td>\n",
              "      <td>53587</td>\n",
              "      <td>1</td>\n",
              "      <td>NaN</td>\n",
              "      <td>5.0</td>\n",
              "      <td>Male</td>\n",
              "      <td>5.0</td>\n",
              "      <td>3.0</td>\n",
              "      <td>NaN</td>\n",
              "      <td>0</td>\n",
              "    </tr>\n",
              "    <tr>\n",
              "      <th>1</th>\n",
              "      <td>208263</td>\n",
              "      <td>2017-07-08 00:00</td>\n",
              "      <td>172910</td>\n",
              "      <td>I</td>\n",
              "      <td>118601</td>\n",
              "      <td>28529</td>\n",
              "      <td>3</td>\n",
              "      <td>82527.0</td>\n",
              "      <td>NaN</td>\n",
              "      <td>NaN</td>\n",
              "      <td>NaN</td>\n",
              "      <td>NaN</td>\n",
              "      <td>NaN</td>\n",
              "      <td>1</td>\n",
              "    </tr>\n",
              "    <tr>\n",
              "      <th>2</th>\n",
              "      <td>239450</td>\n",
              "      <td>2017-07-08 00:00</td>\n",
              "      <td>172910</td>\n",
              "      <td>I</td>\n",
              "      <td>118601</td>\n",
              "      <td>28529</td>\n",
              "      <td>4</td>\n",
              "      <td>82527.0</td>\n",
              "      <td>NaN</td>\n",
              "      <td>NaN</td>\n",
              "      <td>NaN</td>\n",
              "      <td>NaN</td>\n",
              "      <td>NaN</td>\n",
              "      <td>1</td>\n",
              "    </tr>\n",
              "    <tr>\n",
              "      <th>3</th>\n",
              "      <td>547761</td>\n",
              "      <td>2017-07-08 00:00</td>\n",
              "      <td>557318</td>\n",
              "      <td>G</td>\n",
              "      <td>118601</td>\n",
              "      <td>28529</td>\n",
              "      <td>5</td>\n",
              "      <td>82527.0</td>\n",
              "      <td>1.0</td>\n",
              "      <td>Male</td>\n",
              "      <td>1.0</td>\n",
              "      <td>3.0</td>\n",
              "      <td>1.0</td>\n",
              "      <td>0</td>\n",
              "    </tr>\n",
              "    <tr>\n",
              "      <th>4</th>\n",
              "      <td>574275</td>\n",
              "      <td>2017-07-08 00:00</td>\n",
              "      <td>923896</td>\n",
              "      <td>H</td>\n",
              "      <td>118601</td>\n",
              "      <td>28529</td>\n",
              "      <td>5</td>\n",
              "      <td>82527.0</td>\n",
              "      <td>9.0</td>\n",
              "      <td>Female</td>\n",
              "      <td>3.0</td>\n",
              "      <td>1.0</td>\n",
              "      <td>NaN</td>\n",
              "      <td>1</td>\n",
              "    </tr>\n",
              "  </tbody>\n",
              "</table>\n",
              "</div>"
            ]
          },
          "metadata": {
            "tags": []
          },
          "execution_count": 123
        }
      ]
    },
    {
      "cell_type": "markdown",
      "metadata": {
        "id": "BZMxqUVj_oBl"
      },
      "source": [
        "### Making the same features as training dataset"
      ]
    },
    {
      "cell_type": "code",
      "metadata": {
        "colab": {
          "base_uri": "https://localhost:8080/",
          "height": 309
        },
        "id": "I3YvFNP9_oBl",
        "outputId": "a145a82b-7250-426b-f878-999988a88f13"
      },
      "source": [
        "day_of_week = lambda x: datetime.strptime(x, \"%Y-%m-%d %H:%M\" ).weekday()\n",
        "test_df['day_of_week'] = test_df['DateTime'].map(day_of_week)\n",
        "test_df.head()"
      ],
      "execution_count": 124,
      "outputs": [
        {
          "output_type": "execute_result",
          "data": {
            "text/plain": [
              "   session_id          DateTime  user_id product  campaign_id  webpage_id  \\\n",
              "0      411705  2017-07-08 00:00   732573       J       404347       53587   \n",
              "1      208263  2017-07-08 00:00   172910       I       118601       28529   \n",
              "2      239450  2017-07-08 00:00   172910       I       118601       28529   \n",
              "3      547761  2017-07-08 00:00   557318       G       118601       28529   \n",
              "4      574275  2017-07-08 00:00   923896       H       118601       28529   \n",
              "\n",
              "   product_category_1  product_category_2  user_group_id  gender  age_level  \\\n",
              "0                   1                 NaN            5.0    Male        5.0   \n",
              "1                   3             82527.0            NaN     NaN        NaN   \n",
              "2                   4             82527.0            NaN     NaN        NaN   \n",
              "3                   5             82527.0            1.0    Male        1.0   \n",
              "4                   5             82527.0            9.0  Female        3.0   \n",
              "\n",
              "   user_depth  city_development_index  var_1  day_of_week  \n",
              "0         3.0                     NaN      0            5  \n",
              "1         NaN                     NaN      1            5  \n",
              "2         NaN                     NaN      1            5  \n",
              "3         3.0                     1.0      0            5  \n",
              "4         1.0                     NaN      1            5  "
            ],
            "text/html": [
              "<div>\n",
              "<style scoped>\n",
              "    .dataframe tbody tr th:only-of-type {\n",
              "        vertical-align: middle;\n",
              "    }\n",
              "\n",
              "    .dataframe tbody tr th {\n",
              "        vertical-align: top;\n",
              "    }\n",
              "\n",
              "    .dataframe thead th {\n",
              "        text-align: right;\n",
              "    }\n",
              "</style>\n",
              "<table border=\"1\" class=\"dataframe\">\n",
              "  <thead>\n",
              "    <tr style=\"text-align: right;\">\n",
              "      <th></th>\n",
              "      <th>session_id</th>\n",
              "      <th>DateTime</th>\n",
              "      <th>user_id</th>\n",
              "      <th>product</th>\n",
              "      <th>campaign_id</th>\n",
              "      <th>webpage_id</th>\n",
              "      <th>product_category_1</th>\n",
              "      <th>product_category_2</th>\n",
              "      <th>user_group_id</th>\n",
              "      <th>gender</th>\n",
              "      <th>age_level</th>\n",
              "      <th>user_depth</th>\n",
              "      <th>city_development_index</th>\n",
              "      <th>var_1</th>\n",
              "      <th>day_of_week</th>\n",
              "    </tr>\n",
              "  </thead>\n",
              "  <tbody>\n",
              "    <tr>\n",
              "      <th>0</th>\n",
              "      <td>411705</td>\n",
              "      <td>2017-07-08 00:00</td>\n",
              "      <td>732573</td>\n",
              "      <td>J</td>\n",
              "      <td>404347</td>\n",
              "      <td>53587</td>\n",
              "      <td>1</td>\n",
              "      <td>NaN</td>\n",
              "      <td>5.0</td>\n",
              "      <td>Male</td>\n",
              "      <td>5.0</td>\n",
              "      <td>3.0</td>\n",
              "      <td>NaN</td>\n",
              "      <td>0</td>\n",
              "      <td>5</td>\n",
              "    </tr>\n",
              "    <tr>\n",
              "      <th>1</th>\n",
              "      <td>208263</td>\n",
              "      <td>2017-07-08 00:00</td>\n",
              "      <td>172910</td>\n",
              "      <td>I</td>\n",
              "      <td>118601</td>\n",
              "      <td>28529</td>\n",
              "      <td>3</td>\n",
              "      <td>82527.0</td>\n",
              "      <td>NaN</td>\n",
              "      <td>NaN</td>\n",
              "      <td>NaN</td>\n",
              "      <td>NaN</td>\n",
              "      <td>NaN</td>\n",
              "      <td>1</td>\n",
              "      <td>5</td>\n",
              "    </tr>\n",
              "    <tr>\n",
              "      <th>2</th>\n",
              "      <td>239450</td>\n",
              "      <td>2017-07-08 00:00</td>\n",
              "      <td>172910</td>\n",
              "      <td>I</td>\n",
              "      <td>118601</td>\n",
              "      <td>28529</td>\n",
              "      <td>4</td>\n",
              "      <td>82527.0</td>\n",
              "      <td>NaN</td>\n",
              "      <td>NaN</td>\n",
              "      <td>NaN</td>\n",
              "      <td>NaN</td>\n",
              "      <td>NaN</td>\n",
              "      <td>1</td>\n",
              "      <td>5</td>\n",
              "    </tr>\n",
              "    <tr>\n",
              "      <th>3</th>\n",
              "      <td>547761</td>\n",
              "      <td>2017-07-08 00:00</td>\n",
              "      <td>557318</td>\n",
              "      <td>G</td>\n",
              "      <td>118601</td>\n",
              "      <td>28529</td>\n",
              "      <td>5</td>\n",
              "      <td>82527.0</td>\n",
              "      <td>1.0</td>\n",
              "      <td>Male</td>\n",
              "      <td>1.0</td>\n",
              "      <td>3.0</td>\n",
              "      <td>1.0</td>\n",
              "      <td>0</td>\n",
              "      <td>5</td>\n",
              "    </tr>\n",
              "    <tr>\n",
              "      <th>4</th>\n",
              "      <td>574275</td>\n",
              "      <td>2017-07-08 00:00</td>\n",
              "      <td>923896</td>\n",
              "      <td>H</td>\n",
              "      <td>118601</td>\n",
              "      <td>28529</td>\n",
              "      <td>5</td>\n",
              "      <td>82527.0</td>\n",
              "      <td>9.0</td>\n",
              "      <td>Female</td>\n",
              "      <td>3.0</td>\n",
              "      <td>1.0</td>\n",
              "      <td>NaN</td>\n",
              "      <td>1</td>\n",
              "      <td>5</td>\n",
              "    </tr>\n",
              "  </tbody>\n",
              "</table>\n",
              "</div>"
            ]
          },
          "metadata": {
            "tags": []
          },
          "execution_count": 124
        }
      ]
    },
    {
      "cell_type": "code",
      "metadata": {
        "id": "81CCFCtZ_oBl"
      },
      "source": [
        "def is_weekend(x):\n",
        "    if x['day_of_week'] < 5 :\n",
        "        return 0 \n",
        "    else:\n",
        "        return 1"
      ],
      "execution_count": 125,
      "outputs": []
    },
    {
      "cell_type": "code",
      "metadata": {
        "id": "dKz_1BUc_oBm"
      },
      "source": [
        "test_df['is_weekend'] = test_df.apply(lambda row: is_weekend(row),axis=1)"
      ],
      "execution_count": 126,
      "outputs": []
    },
    {
      "cell_type": "code",
      "metadata": {
        "id": "vPC-zdCX_oBm"
      },
      "source": [
        "test_df['time'] = pd.to_datetime(test_df['DateTime'], format=\"%Y-%m-%d %H:%M\")\n",
        "test_df['hour'] = test_df.time.dt.hour"
      ],
      "execution_count": 127,
      "outputs": []
    },
    {
      "cell_type": "code",
      "metadata": {
        "id": "C1sfoomH_oBm"
      },
      "source": [
        "test_df = test_df.drop(['DateTime','session_id'], axis = 1)"
      ],
      "execution_count": 128,
      "outputs": []
    },
    {
      "cell_type": "markdown",
      "metadata": {
        "id": "SwkxZ7BX_oBm"
      },
      "source": [
        "## Missing Value Analysis"
      ]
    },
    {
      "cell_type": "code",
      "metadata": {
        "colab": {
          "base_uri": "https://localhost:8080/"
        },
        "id": "Ux3k_zFC_oBm",
        "outputId": "aebd8fe3-b0b0-4be2-d092-05b1e14314ad"
      },
      "source": [
        "missing_data = (((test_df.isnull().sum())*100)/len(train_df))\n",
        "missing_data"
      ],
      "execution_count": 129,
      "outputs": [
        {
          "output_type": "execute_result",
          "data": {
            "text/plain": [
              "user_id                    0.000000\n",
              "product                    0.000000\n",
              "campaign_id                0.000000\n",
              "webpage_id                 0.000000\n",
              "product_category_1         0.000000\n",
              "product_category_2        22.054898\n",
              "user_group_id              1.645771\n",
              "gender                     1.645771\n",
              "age_level                  1.645771\n",
              "user_depth                 1.645771\n",
              "city_development_index    10.020847\n",
              "var_1                      0.000000\n",
              "day_of_week                0.000000\n",
              "is_weekend                 0.000000\n",
              "time                       0.000000\n",
              "hour                       0.000000\n",
              "dtype: float64"
            ]
          },
          "metadata": {
            "tags": []
          },
          "execution_count": 129
        }
      ]
    },
    {
      "cell_type": "code",
      "metadata": {
        "id": "jHfKsy-S_oBn"
      },
      "source": [
        "test_df = test_df[test_df['age_level'].notnull()]"
      ],
      "execution_count": 130,
      "outputs": []
    },
    {
      "cell_type": "code",
      "metadata": {
        "id": "Ov1d4jw1_oBn"
      },
      "source": [
        "test_df['city_development_index'].loc[test_df['city_development_index'].isnull()]= 2.0"
      ],
      "execution_count": 131,
      "outputs": []
    },
    {
      "cell_type": "markdown",
      "metadata": {
        "id": "iF8S_kF0_oBn"
      },
      "source": [
        "## Rearranging the testdata"
      ]
    },
    {
      "cell_type": "code",
      "metadata": {
        "id": "mfFXSQe3_oBn"
      },
      "source": [
        "test_df = test_df[['day_of_week','is_weekend','hour','user_id','product','campaign_id','webpage_id','product_category_1','user_group_id','age_level','user_depth',\n",
        "                     'city_development_index','var_1']]"
      ],
      "execution_count": 132,
      "outputs": []
    },
    {
      "cell_type": "code",
      "metadata": {
        "colab": {
          "base_uri": "https://localhost:8080/",
          "height": 224
        },
        "id": "rPCeFkHV_oBo",
        "outputId": "36601e1c-082f-4b43-8177-8907e7253627"
      },
      "source": [
        "test_df.head()"
      ],
      "execution_count": 133,
      "outputs": [
        {
          "output_type": "execute_result",
          "data": {
            "text/plain": [
              "   day_of_week  is_weekend  hour  user_id product  campaign_id  webpage_id  \\\n",
              "0            5           1     0   732573       J       404347       53587   \n",
              "3            5           1     0   557318       G       118601       28529   \n",
              "4            5           1     0   923896       H       118601       28529   \n",
              "5            5           1     0   854182       I       118601       28529   \n",
              "6            5           1     0  1101628       D       118601       28529   \n",
              "\n",
              "   product_category_1  user_group_id  age_level  user_depth  \\\n",
              "0                   1            5.0        5.0         3.0   \n",
              "3                   5            1.0        1.0         3.0   \n",
              "4                   5            9.0        3.0         1.0   \n",
              "5                   4            1.0        1.0         3.0   \n",
              "6                   4            2.0        2.0         3.0   \n",
              "\n",
              "   city_development_index  var_1  \n",
              "0                     2.0      0  \n",
              "3                     1.0      0  \n",
              "4                     2.0      1  \n",
              "5                     4.0      1  \n",
              "6                     2.0      1  "
            ],
            "text/html": [
              "<div>\n",
              "<style scoped>\n",
              "    .dataframe tbody tr th:only-of-type {\n",
              "        vertical-align: middle;\n",
              "    }\n",
              "\n",
              "    .dataframe tbody tr th {\n",
              "        vertical-align: top;\n",
              "    }\n",
              "\n",
              "    .dataframe thead th {\n",
              "        text-align: right;\n",
              "    }\n",
              "</style>\n",
              "<table border=\"1\" class=\"dataframe\">\n",
              "  <thead>\n",
              "    <tr style=\"text-align: right;\">\n",
              "      <th></th>\n",
              "      <th>day_of_week</th>\n",
              "      <th>is_weekend</th>\n",
              "      <th>hour</th>\n",
              "      <th>user_id</th>\n",
              "      <th>product</th>\n",
              "      <th>campaign_id</th>\n",
              "      <th>webpage_id</th>\n",
              "      <th>product_category_1</th>\n",
              "      <th>user_group_id</th>\n",
              "      <th>age_level</th>\n",
              "      <th>user_depth</th>\n",
              "      <th>city_development_index</th>\n",
              "      <th>var_1</th>\n",
              "    </tr>\n",
              "  </thead>\n",
              "  <tbody>\n",
              "    <tr>\n",
              "      <th>0</th>\n",
              "      <td>5</td>\n",
              "      <td>1</td>\n",
              "      <td>0</td>\n",
              "      <td>732573</td>\n",
              "      <td>J</td>\n",
              "      <td>404347</td>\n",
              "      <td>53587</td>\n",
              "      <td>1</td>\n",
              "      <td>5.0</td>\n",
              "      <td>5.0</td>\n",
              "      <td>3.0</td>\n",
              "      <td>2.0</td>\n",
              "      <td>0</td>\n",
              "    </tr>\n",
              "    <tr>\n",
              "      <th>3</th>\n",
              "      <td>5</td>\n",
              "      <td>1</td>\n",
              "      <td>0</td>\n",
              "      <td>557318</td>\n",
              "      <td>G</td>\n",
              "      <td>118601</td>\n",
              "      <td>28529</td>\n",
              "      <td>5</td>\n",
              "      <td>1.0</td>\n",
              "      <td>1.0</td>\n",
              "      <td>3.0</td>\n",
              "      <td>1.0</td>\n",
              "      <td>0</td>\n",
              "    </tr>\n",
              "    <tr>\n",
              "      <th>4</th>\n",
              "      <td>5</td>\n",
              "      <td>1</td>\n",
              "      <td>0</td>\n",
              "      <td>923896</td>\n",
              "      <td>H</td>\n",
              "      <td>118601</td>\n",
              "      <td>28529</td>\n",
              "      <td>5</td>\n",
              "      <td>9.0</td>\n",
              "      <td>3.0</td>\n",
              "      <td>1.0</td>\n",
              "      <td>2.0</td>\n",
              "      <td>1</td>\n",
              "    </tr>\n",
              "    <tr>\n",
              "      <th>5</th>\n",
              "      <td>5</td>\n",
              "      <td>1</td>\n",
              "      <td>0</td>\n",
              "      <td>854182</td>\n",
              "      <td>I</td>\n",
              "      <td>118601</td>\n",
              "      <td>28529</td>\n",
              "      <td>4</td>\n",
              "      <td>1.0</td>\n",
              "      <td>1.0</td>\n",
              "      <td>3.0</td>\n",
              "      <td>4.0</td>\n",
              "      <td>1</td>\n",
              "    </tr>\n",
              "    <tr>\n",
              "      <th>6</th>\n",
              "      <td>5</td>\n",
              "      <td>1</td>\n",
              "      <td>0</td>\n",
              "      <td>1101628</td>\n",
              "      <td>D</td>\n",
              "      <td>118601</td>\n",
              "      <td>28529</td>\n",
              "      <td>4</td>\n",
              "      <td>2.0</td>\n",
              "      <td>2.0</td>\n",
              "      <td>3.0</td>\n",
              "      <td>2.0</td>\n",
              "      <td>1</td>\n",
              "    </tr>\n",
              "  </tbody>\n",
              "</table>\n",
              "</div>"
            ]
          },
          "metadata": {
            "tags": []
          },
          "execution_count": 133
        }
      ]
    },
    {
      "cell_type": "markdown",
      "metadata": {
        "id": "tFJALKiL_oBo"
      },
      "source": [
        "## Producing the final output"
      ]
    },
    {
      "cell_type": "code",
      "metadata": {
        "colab": {
          "base_uri": "https://localhost:8080/"
        },
        "id": "i3m3-VWx_oBo",
        "outputId": "3a45cbed-7fa0-4db3-f26d-14420f997701"
      },
      "source": [
        "X = train_df.iloc[:, 0:13].values\n",
        "\n",
        "# Encoding categorical data\n",
        "from sklearn.preprocessing import LabelEncoder, OneHotEncoder\n",
        "labelencoder_X_1 = LabelEncoder()\n",
        "X[:, 4] = labelencoder_X_1.fit_transform(X[:, 4])\n",
        "\n",
        "onehotencoder = OneHotEncoder(categorical_features = [1])\n",
        "X = onehotencoder.fit_transform(X).toarray()\n",
        "X = X[:, 1:]"
      ],
      "execution_count": 134,
      "outputs": [
        {
          "output_type": "stream",
          "text": [
            "/usr/local/lib/python2.7/dist-packages/sklearn/preprocessing/_encoders.py:392: DeprecationWarning: The 'categorical_features' keyword is deprecated in version 0.20 and will be removed in 0.22. You can use the ColumnTransformer instead.\n",
            "  \"use the ColumnTransformer instead.\", DeprecationWarning)\n"
          ],
          "name": "stderr"
        }
      ]
    },
    {
      "cell_type": "code",
      "metadata": {
        "colab": {
          "base_uri": "https://localhost:8080/",
          "height": 224
        },
        "id": "11t27-S6Jpxp",
        "outputId": "afcd53a6-a7eb-41f4-bd5e-f37dd0f16806"
      },
      "source": [
        "test_df.head()"
      ],
      "execution_count": 141,
      "outputs": [
        {
          "output_type": "execute_result",
          "data": {
            "text/plain": [
              "   day_of_week  is_weekend  hour  user_id product  campaign_id  webpage_id  \\\n",
              "0            5           1     0   732573       J       404347       53587   \n",
              "3            5           1     0   557318       G       118601       28529   \n",
              "4            5           1     0   923896       H       118601       28529   \n",
              "5            5           1     0   854182       I       118601       28529   \n",
              "6            5           1     0  1101628       D       118601       28529   \n",
              "\n",
              "   product_category_1  user_group_id  age_level  user_depth  \\\n",
              "0                   1            5.0        5.0         3.0   \n",
              "3                   5            1.0        1.0         3.0   \n",
              "4                   5            9.0        3.0         1.0   \n",
              "5                   4            1.0        1.0         3.0   \n",
              "6                   4            2.0        2.0         3.0   \n",
              "\n",
              "   city_development_index  var_1  \n",
              "0                     2.0      0  \n",
              "3                     1.0      0  \n",
              "4                     2.0      1  \n",
              "5                     4.0      1  \n",
              "6                     2.0      1  "
            ],
            "text/html": [
              "<div>\n",
              "<style scoped>\n",
              "    .dataframe tbody tr th:only-of-type {\n",
              "        vertical-align: middle;\n",
              "    }\n",
              "\n",
              "    .dataframe tbody tr th {\n",
              "        vertical-align: top;\n",
              "    }\n",
              "\n",
              "    .dataframe thead th {\n",
              "        text-align: right;\n",
              "    }\n",
              "</style>\n",
              "<table border=\"1\" class=\"dataframe\">\n",
              "  <thead>\n",
              "    <tr style=\"text-align: right;\">\n",
              "      <th></th>\n",
              "      <th>day_of_week</th>\n",
              "      <th>is_weekend</th>\n",
              "      <th>hour</th>\n",
              "      <th>user_id</th>\n",
              "      <th>product</th>\n",
              "      <th>campaign_id</th>\n",
              "      <th>webpage_id</th>\n",
              "      <th>product_category_1</th>\n",
              "      <th>user_group_id</th>\n",
              "      <th>age_level</th>\n",
              "      <th>user_depth</th>\n",
              "      <th>city_development_index</th>\n",
              "      <th>var_1</th>\n",
              "    </tr>\n",
              "  </thead>\n",
              "  <tbody>\n",
              "    <tr>\n",
              "      <th>0</th>\n",
              "      <td>5</td>\n",
              "      <td>1</td>\n",
              "      <td>0</td>\n",
              "      <td>732573</td>\n",
              "      <td>J</td>\n",
              "      <td>404347</td>\n",
              "      <td>53587</td>\n",
              "      <td>1</td>\n",
              "      <td>5.0</td>\n",
              "      <td>5.0</td>\n",
              "      <td>3.0</td>\n",
              "      <td>2.0</td>\n",
              "      <td>0</td>\n",
              "    </tr>\n",
              "    <tr>\n",
              "      <th>3</th>\n",
              "      <td>5</td>\n",
              "      <td>1</td>\n",
              "      <td>0</td>\n",
              "      <td>557318</td>\n",
              "      <td>G</td>\n",
              "      <td>118601</td>\n",
              "      <td>28529</td>\n",
              "      <td>5</td>\n",
              "      <td>1.0</td>\n",
              "      <td>1.0</td>\n",
              "      <td>3.0</td>\n",
              "      <td>1.0</td>\n",
              "      <td>0</td>\n",
              "    </tr>\n",
              "    <tr>\n",
              "      <th>4</th>\n",
              "      <td>5</td>\n",
              "      <td>1</td>\n",
              "      <td>0</td>\n",
              "      <td>923896</td>\n",
              "      <td>H</td>\n",
              "      <td>118601</td>\n",
              "      <td>28529</td>\n",
              "      <td>5</td>\n",
              "      <td>9.0</td>\n",
              "      <td>3.0</td>\n",
              "      <td>1.0</td>\n",
              "      <td>2.0</td>\n",
              "      <td>1</td>\n",
              "    </tr>\n",
              "    <tr>\n",
              "      <th>5</th>\n",
              "      <td>5</td>\n",
              "      <td>1</td>\n",
              "      <td>0</td>\n",
              "      <td>854182</td>\n",
              "      <td>I</td>\n",
              "      <td>118601</td>\n",
              "      <td>28529</td>\n",
              "      <td>4</td>\n",
              "      <td>1.0</td>\n",
              "      <td>1.0</td>\n",
              "      <td>3.0</td>\n",
              "      <td>4.0</td>\n",
              "      <td>1</td>\n",
              "    </tr>\n",
              "    <tr>\n",
              "      <th>6</th>\n",
              "      <td>5</td>\n",
              "      <td>1</td>\n",
              "      <td>0</td>\n",
              "      <td>1101628</td>\n",
              "      <td>D</td>\n",
              "      <td>118601</td>\n",
              "      <td>28529</td>\n",
              "      <td>4</td>\n",
              "      <td>2.0</td>\n",
              "      <td>2.0</td>\n",
              "      <td>3.0</td>\n",
              "      <td>2.0</td>\n",
              "      <td>1</td>\n",
              "    </tr>\n",
              "  </tbody>\n",
              "</table>\n",
              "</div>"
            ]
          },
          "metadata": {
            "tags": []
          },
          "execution_count": 141
        }
      ]
    },
    {
      "cell_type": "code",
      "metadata": {
        "colab": {
          "base_uri": "https://localhost:8080/"
        },
        "id": "U7r6xj5H_oBp",
        "outputId": "366a582f-7d58-4163-9e17-d80ccaeaef69"
      },
      "source": [
        "output = classifier.predict(X)\n",
        "output"
      ],
      "execution_count": 156,
      "outputs": [
        {
          "output_type": "execute_result",
          "data": {
            "text/plain": [
              "array([0, 0, 0, ..., 0, 0, 0])"
            ]
          },
          "metadata": {
            "tags": []
          },
          "execution_count": 156
        }
      ]
    },
    {
      "cell_type": "code",
      "metadata": {
        "colab": {
          "base_uri": "https://localhost:8080/",
          "height": 100
        },
        "id": "67t0dXtsMSqr",
        "outputId": "3a97877f-6ca5-4648-f53f-cb331a1c9b6c"
      },
      "source": [
        "train_df.head(1)"
      ],
      "execution_count": 159,
      "outputs": [
        {
          "output_type": "execute_result",
          "data": {
            "text/plain": [
              "   day_of_week  is_weekend  hour  user_id product  campaign_id  webpage_id  \\\n",
              "0            6           1     0   858557       C       359520       13787   \n",
              "\n",
              "   product_category_1  user_group_id  age_level  user_depth  \\\n",
              "0                   4           10.0        4.0         3.0   \n",
              "\n",
              "   city_development_index  var_1  is_click  \n",
              "0                     3.0      0         0  "
            ],
            "text/html": [
              "<div>\n",
              "<style scoped>\n",
              "    .dataframe tbody tr th:only-of-type {\n",
              "        vertical-align: middle;\n",
              "    }\n",
              "\n",
              "    .dataframe tbody tr th {\n",
              "        vertical-align: top;\n",
              "    }\n",
              "\n",
              "    .dataframe thead th {\n",
              "        text-align: right;\n",
              "    }\n",
              "</style>\n",
              "<table border=\"1\" class=\"dataframe\">\n",
              "  <thead>\n",
              "    <tr style=\"text-align: right;\">\n",
              "      <th></th>\n",
              "      <th>day_of_week</th>\n",
              "      <th>is_weekend</th>\n",
              "      <th>hour</th>\n",
              "      <th>user_id</th>\n",
              "      <th>product</th>\n",
              "      <th>campaign_id</th>\n",
              "      <th>webpage_id</th>\n",
              "      <th>product_category_1</th>\n",
              "      <th>user_group_id</th>\n",
              "      <th>age_level</th>\n",
              "      <th>user_depth</th>\n",
              "      <th>city_development_index</th>\n",
              "      <th>var_1</th>\n",
              "      <th>is_click</th>\n",
              "    </tr>\n",
              "  </thead>\n",
              "  <tbody>\n",
              "    <tr>\n",
              "      <th>0</th>\n",
              "      <td>6</td>\n",
              "      <td>1</td>\n",
              "      <td>0</td>\n",
              "      <td>858557</td>\n",
              "      <td>C</td>\n",
              "      <td>359520</td>\n",
              "      <td>13787</td>\n",
              "      <td>4</td>\n",
              "      <td>10.0</td>\n",
              "      <td>4.0</td>\n",
              "      <td>3.0</td>\n",
              "      <td>3.0</td>\n",
              "      <td>0</td>\n",
              "      <td>0</td>\n",
              "    </tr>\n",
              "  </tbody>\n",
              "</table>\n",
              "</div>"
            ]
          },
          "metadata": {
            "tags": []
          },
          "execution_count": 159
        }
      ]
    },
    {
      "cell_type": "code",
      "metadata": {
        "colab": {
          "base_uri": "https://localhost:8080/",
          "height": 1000
        },
        "id": "6LI5bIs7PMMX",
        "outputId": "e60ad141-a660-490c-f2a4-4695a3b04334"
      },
      "source": [
        "test"
      ],
      "execution_count": 167,
      "outputs": [
        {
          "output_type": "execute_result",
          "data": {
            "text/plain": [
              "        session_id          DateTime  user_id product  campaign_id  \\\n",
              "0           411705  2017-07-08 00:00   732573       J       404347   \n",
              "1           208263  2017-07-08 00:00   172910       I       118601   \n",
              "2           239450  2017-07-08 00:00   172910       I       118601   \n",
              "3           547761  2017-07-08 00:00   557318       G       118601   \n",
              "4           574275  2017-07-08 00:00   923896       H       118601   \n",
              "5           394913  2017-07-08 00:00   854182       I       118601   \n",
              "6           562747  2017-07-08 00:00  1101628       D       118601   \n",
              "7           224359  2017-07-08 00:00  1101628       D       118601   \n",
              "8           395004  2017-07-08 00:00  1088284       I       118601   \n",
              "9           572855  2017-07-08 00:00   972585       H       118601   \n",
              "10          595386  2017-07-08 00:00   555872       D       118601   \n",
              "11          395293  2017-07-08 00:00   630348       I       118601   \n",
              "12          232085  2017-07-08 00:00   172910       G       118601   \n",
              "13          222325  2017-07-08 00:00   172910       F       118601   \n",
              "14          395297  2017-07-08 00:00   254445       I       118601   \n",
              "15          546723  2017-07-08 00:00   803761       G       118601   \n",
              "16           28142  2017-07-08 00:01   268092       D       360936   \n",
              "17          595767  2017-07-08 00:01   854182       D       118601   \n",
              "18          547614  2017-07-08 00:01   854182       G       118601   \n",
              "19          577690  2017-07-08 00:01   224613       H       118601   \n",
              "20          207878  2017-07-08 00:01  1099847       I       118601   \n",
              "21          394014  2017-07-08 00:01  1099847       I       118601   \n",
              "22          582507  2017-07-08 00:01   550160       H       118601   \n",
              "23          207440  2017-07-08 00:01   899998       I       118601   \n",
              "24          312987  2017-07-08 00:01  1017373       I       360936   \n",
              "25          223950  2017-07-08 00:01   128879       H       118601   \n",
              "26          547956  2017-07-08 00:01   128879       G       118601   \n",
              "27          218279  2017-07-08 00:01   164502       I       118601   \n",
              "28           21770  2017-07-08 00:01  1095609       C       360936   \n",
              "29          567908  2017-07-08 00:01   332297       H       118601   \n",
              "...            ...               ...      ...     ...          ...   \n",
              "128828      576965  2017-07-09 21:28   912435       H       118601   \n",
              "128829      385092  2017-07-09 21:28   326166       D        98970   \n",
              "128830      231847  2017-07-09 21:28   674289       G       118601   \n",
              "128831      528266  2017-07-09 21:28   351079       E        98970   \n",
              "128832      274527  2017-07-09 21:28   351079       D        98970   \n",
              "128833      225742  2017-07-09 21:28   353918       H       396664   \n",
              "128834      130350  2017-07-09 21:28  1058680       C       359520   \n",
              "128835      415589  2017-07-09 21:28   370576       J       404347   \n",
              "128836      585703  2017-07-09 21:28   152269       H       118601   \n",
              "128837      516578  2017-07-09 21:28   152269       A       405490   \n",
              "128838      139725  2017-07-09 21:28   689778       C       359520   \n",
              "128839      574168  2017-07-09 21:28   428466       H       118601   \n",
              "128840      559393  2017-07-09 21:28   367411       H       118601   \n",
              "128841      567265  2017-07-09 21:28   149060       H       118601   \n",
              "128842      349453  2017-07-09 21:28   179732       H       414149   \n",
              "128843      396688  2017-07-09 21:28   588662       I       118601   \n",
              "128844      433931  2017-07-09 21:29   454295       I        82320   \n",
              "128845      579307  2017-07-09 21:29   712753       H       118601   \n",
              "128846      137109  2017-07-09 21:29   680418       C       359520   \n",
              "128847      384407  2017-07-09 21:29    75436       G        98970   \n",
              "128848       88077  2017-07-09 21:29   806522       C       405490   \n",
              "128849       25626  2017-07-09 21:29   718811       E        98970   \n",
              "128850      463740  2017-07-09 21:29   615119       D        98970   \n",
              "128851      225111  2017-07-09 21:29    35992       H       396664   \n",
              "128852      575270  2017-07-09 21:29   516834       H       118601   \n",
              "128853      215328  2017-07-09 21:29   252148       B       414149   \n",
              "128854      282232  2017-07-09 21:29    47955       D        98970   \n",
              "128855      140499  2017-07-09 21:29   314236       C       359520   \n",
              "128856      531038  2017-07-09 21:29   988544       E        98970   \n",
              "128857      349998  2017-07-09 21:29   409394       H       414149   \n",
              "\n",
              "        webpage_id  product_category_1  product_category_2  user_group_id  \\\n",
              "0            53587                   1                 NaN            5.0   \n",
              "1            28529                   3             82527.0            NaN   \n",
              "2            28529                   4             82527.0            NaN   \n",
              "3            28529                   5             82527.0            1.0   \n",
              "4            28529                   5             82527.0            9.0   \n",
              "5            28529                   4             82527.0            1.0   \n",
              "6            28529                   4             82527.0            2.0   \n",
              "7            28529                   5             82527.0            2.0   \n",
              "8            28529                   4             82527.0            2.0   \n",
              "9            28529                   5             82527.0            2.0   \n",
              "10           28529                   5             82527.0            2.0   \n",
              "11           28529                   4             82527.0            6.0   \n",
              "12           28529                   5             82527.0            NaN   \n",
              "13           28529                   5             82527.0            NaN   \n",
              "14           28529                   4             82527.0            3.0   \n",
              "15           28529                   5             82527.0            4.0   \n",
              "16           13787                   2                 NaN            3.0   \n",
              "17           28529                   5             82527.0            1.0   \n",
              "18           28529                   5             82527.0            1.0   \n",
              "19           28529                   5             82527.0            4.0   \n",
              "20           28529                   3             82527.0            2.0   \n",
              "21           28529                   4             82527.0            2.0   \n",
              "22           28529                   5             82527.0            2.0   \n",
              "23           28529                   3             82527.0            2.0   \n",
              "24           13787                   2                 NaN            3.0   \n",
              "25           28529                   5             82527.0            2.0   \n",
              "26           28529                   5             82527.0            2.0   \n",
              "27           28529                   4             82527.0            8.0   \n",
              "28           13787                   5                 NaN            1.0   \n",
              "29           28529                   5             82527.0           10.0   \n",
              "...            ...                 ...                 ...            ...   \n",
              "128828       28529                   5             82527.0            5.0   \n",
              "128829        6970                   5                 NaN            3.0   \n",
              "128830       28529                   5             82527.0           12.0   \n",
              "128831        6970                   2                 NaN            2.0   \n",
              "128832        6970                   4                 NaN            2.0   \n",
              "128833       51181                   1                 NaN            2.0   \n",
              "128834       13787                   4                 NaN            2.0   \n",
              "128835       53587                   1                 NaN            1.0   \n",
              "128836       28529                   5             82527.0            1.0   \n",
              "128837       60305                   2                 NaN            1.0   \n",
              "128838       13787                   4                 NaN            2.0   \n",
              "128839       28529                   5             82527.0            2.0   \n",
              "128840       28529                   5             82527.0            2.0   \n",
              "128841       28529                   5             82527.0            2.0   \n",
              "128842       45962                   5                 NaN            9.0   \n",
              "128843       28529                   3             82527.0            NaN   \n",
              "128844        1734                   1            146115.0            5.0   \n",
              "128845       28529                   5             82527.0            2.0   \n",
              "128846       13787                   4                 NaN            3.0   \n",
              "128847        6970                   3                 NaN            2.0   \n",
              "128848       60305                   3                 NaN            2.0   \n",
              "128849        6970                   2                 NaN            1.0   \n",
              "128850        6970                   4                 NaN           10.0   \n",
              "128851       51181                   1                 NaN            3.0   \n",
              "128852       28529                   5             82527.0            2.0   \n",
              "128853       45962                   2            254132.0            2.0   \n",
              "128854        6970                   4                 NaN            1.0   \n",
              "128855       13787                   4                 NaN            2.0   \n",
              "128856        6970                   2                 NaN            2.0   \n",
              "128857       45962                   5                 NaN            2.0   \n",
              "\n",
              "        gender  age_level  user_depth  city_development_index  var_1  \n",
              "0         Male        5.0         3.0                     NaN      0  \n",
              "1          NaN        NaN         NaN                     NaN      1  \n",
              "2          NaN        NaN         NaN                     NaN      1  \n",
              "3         Male        1.0         3.0                     1.0      0  \n",
              "4       Female        3.0         1.0                     NaN      1  \n",
              "5         Male        1.0         3.0                     4.0      1  \n",
              "6         Male        2.0         3.0                     2.0      1  \n",
              "7         Male        2.0         3.0                     2.0      1  \n",
              "8         Male        2.0         3.0                     1.0      0  \n",
              "9         Male        2.0         3.0                     2.0      0  \n",
              "10        Male        2.0         3.0                     3.0      0  \n",
              "11        Male        6.0         3.0                     4.0      1  \n",
              "12         NaN        NaN         NaN                     NaN      1  \n",
              "13         NaN        NaN         NaN                     NaN      1  \n",
              "14        Male        3.0         3.0                     2.0      1  \n",
              "15        Male        4.0         3.0                     2.0      1  \n",
              "16        Male        3.0         3.0                     NaN      0  \n",
              "17        Male        1.0         3.0                     4.0      1  \n",
              "18        Male        1.0         3.0                     4.0      1  \n",
              "19        Male        4.0         3.0                     1.0      1  \n",
              "20        Male        2.0         3.0                     2.0      1  \n",
              "21        Male        2.0         3.0                     2.0      1  \n",
              "22        Male        2.0         3.0                     NaN      0  \n",
              "23        Male        2.0         3.0                     NaN      0  \n",
              "24        Male        3.0         3.0                     3.0      1  \n",
              "25        Male        2.0         3.0                     3.0      1  \n",
              "26        Male        2.0         3.0                     3.0      1  \n",
              "27      Female        2.0         3.0                     3.0      1  \n",
              "28        Male        1.0         3.0                     3.0      0  \n",
              "29      Female        4.0         3.0                     3.0      1  \n",
              "...        ...        ...         ...                     ...    ...  \n",
              "128828    Male        5.0         3.0                     NaN      0  \n",
              "128829    Male        3.0         3.0                     2.0      1  \n",
              "128830  Female        6.0         3.0                     NaN      0  \n",
              "128831    Male        2.0         3.0                     2.0      1  \n",
              "128832    Male        2.0         3.0                     2.0      1  \n",
              "128833    Male        2.0         3.0                     NaN      0  \n",
              "128834    Male        2.0         3.0                     2.0      0  \n",
              "128835    Male        1.0         3.0                     3.0      0  \n",
              "128836    Male        1.0         3.0                     2.0      0  \n",
              "128837    Male        1.0         3.0                     2.0      0  \n",
              "128838    Male        2.0         3.0                     2.0      0  \n",
              "128839    Male        2.0         3.0                     2.0      0  \n",
              "128840    Male        2.0         3.0                     2.0      0  \n",
              "128841    Male        2.0         3.0                     2.0      0  \n",
              "128842  Female        3.0         3.0                     4.0      1  \n",
              "128843     NaN        NaN         NaN                     NaN      0  \n",
              "128844    Male        5.0         3.0                     4.0      0  \n",
              "128845    Male        2.0         3.0                     NaN      0  \n",
              "128846    Male        3.0         3.0                     3.0      0  \n",
              "128847    Male        2.0         3.0                     3.0      0  \n",
              "128848    Male        2.0         3.0                     3.0      0  \n",
              "128849    Male        1.0         3.0                     NaN      0  \n",
              "128850  Female        4.0         3.0                     3.0      0  \n",
              "128851    Male        3.0         3.0                     3.0      0  \n",
              "128852    Male        2.0         3.0                     2.0      0  \n",
              "128853    Male        2.0         3.0                     4.0      0  \n",
              "128854    Male        1.0         3.0                     NaN      0  \n",
              "128855    Male        2.0         3.0                     NaN      0  \n",
              "128856    Male        2.0         3.0                     NaN      0  \n",
              "128857    Male        2.0         3.0                     3.0      0  \n",
              "\n",
              "[128858 rows x 14 columns]"
            ],
            "text/html": [
              "<div>\n",
              "<style scoped>\n",
              "    .dataframe tbody tr th:only-of-type {\n",
              "        vertical-align: middle;\n",
              "    }\n",
              "\n",
              "    .dataframe tbody tr th {\n",
              "        vertical-align: top;\n",
              "    }\n",
              "\n",
              "    .dataframe thead th {\n",
              "        text-align: right;\n",
              "    }\n",
              "</style>\n",
              "<table border=\"1\" class=\"dataframe\">\n",
              "  <thead>\n",
              "    <tr style=\"text-align: right;\">\n",
              "      <th></th>\n",
              "      <th>session_id</th>\n",
              "      <th>DateTime</th>\n",
              "      <th>user_id</th>\n",
              "      <th>product</th>\n",
              "      <th>campaign_id</th>\n",
              "      <th>webpage_id</th>\n",
              "      <th>product_category_1</th>\n",
              "      <th>product_category_2</th>\n",
              "      <th>user_group_id</th>\n",
              "      <th>gender</th>\n",
              "      <th>age_level</th>\n",
              "      <th>user_depth</th>\n",
              "      <th>city_development_index</th>\n",
              "      <th>var_1</th>\n",
              "    </tr>\n",
              "  </thead>\n",
              "  <tbody>\n",
              "    <tr>\n",
              "      <th>0</th>\n",
              "      <td>411705</td>\n",
              "      <td>2017-07-08 00:00</td>\n",
              "      <td>732573</td>\n",
              "      <td>J</td>\n",
              "      <td>404347</td>\n",
              "      <td>53587</td>\n",
              "      <td>1</td>\n",
              "      <td>NaN</td>\n",
              "      <td>5.0</td>\n",
              "      <td>Male</td>\n",
              "      <td>5.0</td>\n",
              "      <td>3.0</td>\n",
              "      <td>NaN</td>\n",
              "      <td>0</td>\n",
              "    </tr>\n",
              "    <tr>\n",
              "      <th>1</th>\n",
              "      <td>208263</td>\n",
              "      <td>2017-07-08 00:00</td>\n",
              "      <td>172910</td>\n",
              "      <td>I</td>\n",
              "      <td>118601</td>\n",
              "      <td>28529</td>\n",
              "      <td>3</td>\n",
              "      <td>82527.0</td>\n",
              "      <td>NaN</td>\n",
              "      <td>NaN</td>\n",
              "      <td>NaN</td>\n",
              "      <td>NaN</td>\n",
              "      <td>NaN</td>\n",
              "      <td>1</td>\n",
              "    </tr>\n",
              "    <tr>\n",
              "      <th>2</th>\n",
              "      <td>239450</td>\n",
              "      <td>2017-07-08 00:00</td>\n",
              "      <td>172910</td>\n",
              "      <td>I</td>\n",
              "      <td>118601</td>\n",
              "      <td>28529</td>\n",
              "      <td>4</td>\n",
              "      <td>82527.0</td>\n",
              "      <td>NaN</td>\n",
              "      <td>NaN</td>\n",
              "      <td>NaN</td>\n",
              "      <td>NaN</td>\n",
              "      <td>NaN</td>\n",
              "      <td>1</td>\n",
              "    </tr>\n",
              "    <tr>\n",
              "      <th>3</th>\n",
              "      <td>547761</td>\n",
              "      <td>2017-07-08 00:00</td>\n",
              "      <td>557318</td>\n",
              "      <td>G</td>\n",
              "      <td>118601</td>\n",
              "      <td>28529</td>\n",
              "      <td>5</td>\n",
              "      <td>82527.0</td>\n",
              "      <td>1.0</td>\n",
              "      <td>Male</td>\n",
              "      <td>1.0</td>\n",
              "      <td>3.0</td>\n",
              "      <td>1.0</td>\n",
              "      <td>0</td>\n",
              "    </tr>\n",
              "    <tr>\n",
              "      <th>4</th>\n",
              "      <td>574275</td>\n",
              "      <td>2017-07-08 00:00</td>\n",
              "      <td>923896</td>\n",
              "      <td>H</td>\n",
              "      <td>118601</td>\n",
              "      <td>28529</td>\n",
              "      <td>5</td>\n",
              "      <td>82527.0</td>\n",
              "      <td>9.0</td>\n",
              "      <td>Female</td>\n",
              "      <td>3.0</td>\n",
              "      <td>1.0</td>\n",
              "      <td>NaN</td>\n",
              "      <td>1</td>\n",
              "    </tr>\n",
              "    <tr>\n",
              "      <th>5</th>\n",
              "      <td>394913</td>\n",
              "      <td>2017-07-08 00:00</td>\n",
              "      <td>854182</td>\n",
              "      <td>I</td>\n",
              "      <td>118601</td>\n",
              "      <td>28529</td>\n",
              "      <td>4</td>\n",
              "      <td>82527.0</td>\n",
              "      <td>1.0</td>\n",
              "      <td>Male</td>\n",
              "      <td>1.0</td>\n",
              "      <td>3.0</td>\n",
              "      <td>4.0</td>\n",
              "      <td>1</td>\n",
              "    </tr>\n",
              "    <tr>\n",
              "      <th>6</th>\n",
              "      <td>562747</td>\n",
              "      <td>2017-07-08 00:00</td>\n",
              "      <td>1101628</td>\n",
              "      <td>D</td>\n",
              "      <td>118601</td>\n",
              "      <td>28529</td>\n",
              "      <td>4</td>\n",
              "      <td>82527.0</td>\n",
              "      <td>2.0</td>\n",
              "      <td>Male</td>\n",
              "      <td>2.0</td>\n",
              "      <td>3.0</td>\n",
              "      <td>2.0</td>\n",
              "      <td>1</td>\n",
              "    </tr>\n",
              "    <tr>\n",
              "      <th>7</th>\n",
              "      <td>224359</td>\n",
              "      <td>2017-07-08 00:00</td>\n",
              "      <td>1101628</td>\n",
              "      <td>D</td>\n",
              "      <td>118601</td>\n",
              "      <td>28529</td>\n",
              "      <td>5</td>\n",
              "      <td>82527.0</td>\n",
              "      <td>2.0</td>\n",
              "      <td>Male</td>\n",
              "      <td>2.0</td>\n",
              "      <td>3.0</td>\n",
              "      <td>2.0</td>\n",
              "      <td>1</td>\n",
              "    </tr>\n",
              "    <tr>\n",
              "      <th>8</th>\n",
              "      <td>395004</td>\n",
              "      <td>2017-07-08 00:00</td>\n",
              "      <td>1088284</td>\n",
              "      <td>I</td>\n",
              "      <td>118601</td>\n",
              "      <td>28529</td>\n",
              "      <td>4</td>\n",
              "      <td>82527.0</td>\n",
              "      <td>2.0</td>\n",
              "      <td>Male</td>\n",
              "      <td>2.0</td>\n",
              "      <td>3.0</td>\n",
              "      <td>1.0</td>\n",
              "      <td>0</td>\n",
              "    </tr>\n",
              "    <tr>\n",
              "      <th>9</th>\n",
              "      <td>572855</td>\n",
              "      <td>2017-07-08 00:00</td>\n",
              "      <td>972585</td>\n",
              "      <td>H</td>\n",
              "      <td>118601</td>\n",
              "      <td>28529</td>\n",
              "      <td>5</td>\n",
              "      <td>82527.0</td>\n",
              "      <td>2.0</td>\n",
              "      <td>Male</td>\n",
              "      <td>2.0</td>\n",
              "      <td>3.0</td>\n",
              "      <td>2.0</td>\n",
              "      <td>0</td>\n",
              "    </tr>\n",
              "    <tr>\n",
              "      <th>10</th>\n",
              "      <td>595386</td>\n",
              "      <td>2017-07-08 00:00</td>\n",
              "      <td>555872</td>\n",
              "      <td>D</td>\n",
              "      <td>118601</td>\n",
              "      <td>28529</td>\n",
              "      <td>5</td>\n",
              "      <td>82527.0</td>\n",
              "      <td>2.0</td>\n",
              "      <td>Male</td>\n",
              "      <td>2.0</td>\n",
              "      <td>3.0</td>\n",
              "      <td>3.0</td>\n",
              "      <td>0</td>\n",
              "    </tr>\n",
              "    <tr>\n",
              "      <th>11</th>\n",
              "      <td>395293</td>\n",
              "      <td>2017-07-08 00:00</td>\n",
              "      <td>630348</td>\n",
              "      <td>I</td>\n",
              "      <td>118601</td>\n",
              "      <td>28529</td>\n",
              "      <td>4</td>\n",
              "      <td>82527.0</td>\n",
              "      <td>6.0</td>\n",
              "      <td>Male</td>\n",
              "      <td>6.0</td>\n",
              "      <td>3.0</td>\n",
              "      <td>4.0</td>\n",
              "      <td>1</td>\n",
              "    </tr>\n",
              "    <tr>\n",
              "      <th>12</th>\n",
              "      <td>232085</td>\n",
              "      <td>2017-07-08 00:00</td>\n",
              "      <td>172910</td>\n",
              "      <td>G</td>\n",
              "      <td>118601</td>\n",
              "      <td>28529</td>\n",
              "      <td>5</td>\n",
              "      <td>82527.0</td>\n",
              "      <td>NaN</td>\n",
              "      <td>NaN</td>\n",
              "      <td>NaN</td>\n",
              "      <td>NaN</td>\n",
              "      <td>NaN</td>\n",
              "      <td>1</td>\n",
              "    </tr>\n",
              "    <tr>\n",
              "      <th>13</th>\n",
              "      <td>222325</td>\n",
              "      <td>2017-07-08 00:00</td>\n",
              "      <td>172910</td>\n",
              "      <td>F</td>\n",
              "      <td>118601</td>\n",
              "      <td>28529</td>\n",
              "      <td>5</td>\n",
              "      <td>82527.0</td>\n",
              "      <td>NaN</td>\n",
              "      <td>NaN</td>\n",
              "      <td>NaN</td>\n",
              "      <td>NaN</td>\n",
              "      <td>NaN</td>\n",
              "      <td>1</td>\n",
              "    </tr>\n",
              "    <tr>\n",
              "      <th>14</th>\n",
              "      <td>395297</td>\n",
              "      <td>2017-07-08 00:00</td>\n",
              "      <td>254445</td>\n",
              "      <td>I</td>\n",
              "      <td>118601</td>\n",
              "      <td>28529</td>\n",
              "      <td>4</td>\n",
              "      <td>82527.0</td>\n",
              "      <td>3.0</td>\n",
              "      <td>Male</td>\n",
              "      <td>3.0</td>\n",
              "      <td>3.0</td>\n",
              "      <td>2.0</td>\n",
              "      <td>1</td>\n",
              "    </tr>\n",
              "    <tr>\n",
              "      <th>15</th>\n",
              "      <td>546723</td>\n",
              "      <td>2017-07-08 00:00</td>\n",
              "      <td>803761</td>\n",
              "      <td>G</td>\n",
              "      <td>118601</td>\n",
              "      <td>28529</td>\n",
              "      <td>5</td>\n",
              "      <td>82527.0</td>\n",
              "      <td>4.0</td>\n",
              "      <td>Male</td>\n",
              "      <td>4.0</td>\n",
              "      <td>3.0</td>\n",
              "      <td>2.0</td>\n",
              "      <td>1</td>\n",
              "    </tr>\n",
              "    <tr>\n",
              "      <th>16</th>\n",
              "      <td>28142</td>\n",
              "      <td>2017-07-08 00:01</td>\n",
              "      <td>268092</td>\n",
              "      <td>D</td>\n",
              "      <td>360936</td>\n",
              "      <td>13787</td>\n",
              "      <td>2</td>\n",
              "      <td>NaN</td>\n",
              "      <td>3.0</td>\n",
              "      <td>Male</td>\n",
              "      <td>3.0</td>\n",
              "      <td>3.0</td>\n",
              "      <td>NaN</td>\n",
              "      <td>0</td>\n",
              "    </tr>\n",
              "    <tr>\n",
              "      <th>17</th>\n",
              "      <td>595767</td>\n",
              "      <td>2017-07-08 00:01</td>\n",
              "      <td>854182</td>\n",
              "      <td>D</td>\n",
              "      <td>118601</td>\n",
              "      <td>28529</td>\n",
              "      <td>5</td>\n",
              "      <td>82527.0</td>\n",
              "      <td>1.0</td>\n",
              "      <td>Male</td>\n",
              "      <td>1.0</td>\n",
              "      <td>3.0</td>\n",
              "      <td>4.0</td>\n",
              "      <td>1</td>\n",
              "    </tr>\n",
              "    <tr>\n",
              "      <th>18</th>\n",
              "      <td>547614</td>\n",
              "      <td>2017-07-08 00:01</td>\n",
              "      <td>854182</td>\n",
              "      <td>G</td>\n",
              "      <td>118601</td>\n",
              "      <td>28529</td>\n",
              "      <td>5</td>\n",
              "      <td>82527.0</td>\n",
              "      <td>1.0</td>\n",
              "      <td>Male</td>\n",
              "      <td>1.0</td>\n",
              "      <td>3.0</td>\n",
              "      <td>4.0</td>\n",
              "      <td>1</td>\n",
              "    </tr>\n",
              "    <tr>\n",
              "      <th>19</th>\n",
              "      <td>577690</td>\n",
              "      <td>2017-07-08 00:01</td>\n",
              "      <td>224613</td>\n",
              "      <td>H</td>\n",
              "      <td>118601</td>\n",
              "      <td>28529</td>\n",
              "      <td>5</td>\n",
              "      <td>82527.0</td>\n",
              "      <td>4.0</td>\n",
              "      <td>Male</td>\n",
              "      <td>4.0</td>\n",
              "      <td>3.0</td>\n",
              "      <td>1.0</td>\n",
              "      <td>1</td>\n",
              "    </tr>\n",
              "    <tr>\n",
              "      <th>20</th>\n",
              "      <td>207878</td>\n",
              "      <td>2017-07-08 00:01</td>\n",
              "      <td>1099847</td>\n",
              "      <td>I</td>\n",
              "      <td>118601</td>\n",
              "      <td>28529</td>\n",
              "      <td>3</td>\n",
              "      <td>82527.0</td>\n",
              "      <td>2.0</td>\n",
              "      <td>Male</td>\n",
              "      <td>2.0</td>\n",
              "      <td>3.0</td>\n",
              "      <td>2.0</td>\n",
              "      <td>1</td>\n",
              "    </tr>\n",
              "    <tr>\n",
              "      <th>21</th>\n",
              "      <td>394014</td>\n",
              "      <td>2017-07-08 00:01</td>\n",
              "      <td>1099847</td>\n",
              "      <td>I</td>\n",
              "      <td>118601</td>\n",
              "      <td>28529</td>\n",
              "      <td>4</td>\n",
              "      <td>82527.0</td>\n",
              "      <td>2.0</td>\n",
              "      <td>Male</td>\n",
              "      <td>2.0</td>\n",
              "      <td>3.0</td>\n",
              "      <td>2.0</td>\n",
              "      <td>1</td>\n",
              "    </tr>\n",
              "    <tr>\n",
              "      <th>22</th>\n",
              "      <td>582507</td>\n",
              "      <td>2017-07-08 00:01</td>\n",
              "      <td>550160</td>\n",
              "      <td>H</td>\n",
              "      <td>118601</td>\n",
              "      <td>28529</td>\n",
              "      <td>5</td>\n",
              "      <td>82527.0</td>\n",
              "      <td>2.0</td>\n",
              "      <td>Male</td>\n",
              "      <td>2.0</td>\n",
              "      <td>3.0</td>\n",
              "      <td>NaN</td>\n",
              "      <td>0</td>\n",
              "    </tr>\n",
              "    <tr>\n",
              "      <th>23</th>\n",
              "      <td>207440</td>\n",
              "      <td>2017-07-08 00:01</td>\n",
              "      <td>899998</td>\n",
              "      <td>I</td>\n",
              "      <td>118601</td>\n",
              "      <td>28529</td>\n",
              "      <td>3</td>\n",
              "      <td>82527.0</td>\n",
              "      <td>2.0</td>\n",
              "      <td>Male</td>\n",
              "      <td>2.0</td>\n",
              "      <td>3.0</td>\n",
              "      <td>NaN</td>\n",
              "      <td>0</td>\n",
              "    </tr>\n",
              "    <tr>\n",
              "      <th>24</th>\n",
              "      <td>312987</td>\n",
              "      <td>2017-07-08 00:01</td>\n",
              "      <td>1017373</td>\n",
              "      <td>I</td>\n",
              "      <td>360936</td>\n",
              "      <td>13787</td>\n",
              "      <td>2</td>\n",
              "      <td>NaN</td>\n",
              "      <td>3.0</td>\n",
              "      <td>Male</td>\n",
              "      <td>3.0</td>\n",
              "      <td>3.0</td>\n",
              "      <td>3.0</td>\n",
              "      <td>1</td>\n",
              "    </tr>\n",
              "    <tr>\n",
              "      <th>25</th>\n",
              "      <td>223950</td>\n",
              "      <td>2017-07-08 00:01</td>\n",
              "      <td>128879</td>\n",
              "      <td>H</td>\n",
              "      <td>118601</td>\n",
              "      <td>28529</td>\n",
              "      <td>5</td>\n",
              "      <td>82527.0</td>\n",
              "      <td>2.0</td>\n",
              "      <td>Male</td>\n",
              "      <td>2.0</td>\n",
              "      <td>3.0</td>\n",
              "      <td>3.0</td>\n",
              "      <td>1</td>\n",
              "    </tr>\n",
              "    <tr>\n",
              "      <th>26</th>\n",
              "      <td>547956</td>\n",
              "      <td>2017-07-08 00:01</td>\n",
              "      <td>128879</td>\n",
              "      <td>G</td>\n",
              "      <td>118601</td>\n",
              "      <td>28529</td>\n",
              "      <td>5</td>\n",
              "      <td>82527.0</td>\n",
              "      <td>2.0</td>\n",
              "      <td>Male</td>\n",
              "      <td>2.0</td>\n",
              "      <td>3.0</td>\n",
              "      <td>3.0</td>\n",
              "      <td>1</td>\n",
              "    </tr>\n",
              "    <tr>\n",
              "      <th>27</th>\n",
              "      <td>218279</td>\n",
              "      <td>2017-07-08 00:01</td>\n",
              "      <td>164502</td>\n",
              "      <td>I</td>\n",
              "      <td>118601</td>\n",
              "      <td>28529</td>\n",
              "      <td>4</td>\n",
              "      <td>82527.0</td>\n",
              "      <td>8.0</td>\n",
              "      <td>Female</td>\n",
              "      <td>2.0</td>\n",
              "      <td>3.0</td>\n",
              "      <td>3.0</td>\n",
              "      <td>1</td>\n",
              "    </tr>\n",
              "    <tr>\n",
              "      <th>28</th>\n",
              "      <td>21770</td>\n",
              "      <td>2017-07-08 00:01</td>\n",
              "      <td>1095609</td>\n",
              "      <td>C</td>\n",
              "      <td>360936</td>\n",
              "      <td>13787</td>\n",
              "      <td>5</td>\n",
              "      <td>NaN</td>\n",
              "      <td>1.0</td>\n",
              "      <td>Male</td>\n",
              "      <td>1.0</td>\n",
              "      <td>3.0</td>\n",
              "      <td>3.0</td>\n",
              "      <td>0</td>\n",
              "    </tr>\n",
              "    <tr>\n",
              "      <th>29</th>\n",
              "      <td>567908</td>\n",
              "      <td>2017-07-08 00:01</td>\n",
              "      <td>332297</td>\n",
              "      <td>H</td>\n",
              "      <td>118601</td>\n",
              "      <td>28529</td>\n",
              "      <td>5</td>\n",
              "      <td>82527.0</td>\n",
              "      <td>10.0</td>\n",
              "      <td>Female</td>\n",
              "      <td>4.0</td>\n",
              "      <td>3.0</td>\n",
              "      <td>3.0</td>\n",
              "      <td>1</td>\n",
              "    </tr>\n",
              "    <tr>\n",
              "      <th>...</th>\n",
              "      <td>...</td>\n",
              "      <td>...</td>\n",
              "      <td>...</td>\n",
              "      <td>...</td>\n",
              "      <td>...</td>\n",
              "      <td>...</td>\n",
              "      <td>...</td>\n",
              "      <td>...</td>\n",
              "      <td>...</td>\n",
              "      <td>...</td>\n",
              "      <td>...</td>\n",
              "      <td>...</td>\n",
              "      <td>...</td>\n",
              "      <td>...</td>\n",
              "    </tr>\n",
              "    <tr>\n",
              "      <th>128828</th>\n",
              "      <td>576965</td>\n",
              "      <td>2017-07-09 21:28</td>\n",
              "      <td>912435</td>\n",
              "      <td>H</td>\n",
              "      <td>118601</td>\n",
              "      <td>28529</td>\n",
              "      <td>5</td>\n",
              "      <td>82527.0</td>\n",
              "      <td>5.0</td>\n",
              "      <td>Male</td>\n",
              "      <td>5.0</td>\n",
              "      <td>3.0</td>\n",
              "      <td>NaN</td>\n",
              "      <td>0</td>\n",
              "    </tr>\n",
              "    <tr>\n",
              "      <th>128829</th>\n",
              "      <td>385092</td>\n",
              "      <td>2017-07-09 21:28</td>\n",
              "      <td>326166</td>\n",
              "      <td>D</td>\n",
              "      <td>98970</td>\n",
              "      <td>6970</td>\n",
              "      <td>5</td>\n",
              "      <td>NaN</td>\n",
              "      <td>3.0</td>\n",
              "      <td>Male</td>\n",
              "      <td>3.0</td>\n",
              "      <td>3.0</td>\n",
              "      <td>2.0</td>\n",
              "      <td>1</td>\n",
              "    </tr>\n",
              "    <tr>\n",
              "      <th>128830</th>\n",
              "      <td>231847</td>\n",
              "      <td>2017-07-09 21:28</td>\n",
              "      <td>674289</td>\n",
              "      <td>G</td>\n",
              "      <td>118601</td>\n",
              "      <td>28529</td>\n",
              "      <td>5</td>\n",
              "      <td>82527.0</td>\n",
              "      <td>12.0</td>\n",
              "      <td>Female</td>\n",
              "      <td>6.0</td>\n",
              "      <td>3.0</td>\n",
              "      <td>NaN</td>\n",
              "      <td>0</td>\n",
              "    </tr>\n",
              "    <tr>\n",
              "      <th>128831</th>\n",
              "      <td>528266</td>\n",
              "      <td>2017-07-09 21:28</td>\n",
              "      <td>351079</td>\n",
              "      <td>E</td>\n",
              "      <td>98970</td>\n",
              "      <td>6970</td>\n",
              "      <td>2</td>\n",
              "      <td>NaN</td>\n",
              "      <td>2.0</td>\n",
              "      <td>Male</td>\n",
              "      <td>2.0</td>\n",
              "      <td>3.0</td>\n",
              "      <td>2.0</td>\n",
              "      <td>1</td>\n",
              "    </tr>\n",
              "    <tr>\n",
              "      <th>128832</th>\n",
              "      <td>274527</td>\n",
              "      <td>2017-07-09 21:28</td>\n",
              "      <td>351079</td>\n",
              "      <td>D</td>\n",
              "      <td>98970</td>\n",
              "      <td>6970</td>\n",
              "      <td>4</td>\n",
              "      <td>NaN</td>\n",
              "      <td>2.0</td>\n",
              "      <td>Male</td>\n",
              "      <td>2.0</td>\n",
              "      <td>3.0</td>\n",
              "      <td>2.0</td>\n",
              "      <td>1</td>\n",
              "    </tr>\n",
              "    <tr>\n",
              "      <th>128833</th>\n",
              "      <td>225742</td>\n",
              "      <td>2017-07-09 21:28</td>\n",
              "      <td>353918</td>\n",
              "      <td>H</td>\n",
              "      <td>396664</td>\n",
              "      <td>51181</td>\n",
              "      <td>1</td>\n",
              "      <td>NaN</td>\n",
              "      <td>2.0</td>\n",
              "      <td>Male</td>\n",
              "      <td>2.0</td>\n",
              "      <td>3.0</td>\n",
              "      <td>NaN</td>\n",
              "      <td>0</td>\n",
              "    </tr>\n",
              "    <tr>\n",
              "      <th>128834</th>\n",
              "      <td>130350</td>\n",
              "      <td>2017-07-09 21:28</td>\n",
              "      <td>1058680</td>\n",
              "      <td>C</td>\n",
              "      <td>359520</td>\n",
              "      <td>13787</td>\n",
              "      <td>4</td>\n",
              "      <td>NaN</td>\n",
              "      <td>2.0</td>\n",
              "      <td>Male</td>\n",
              "      <td>2.0</td>\n",
              "      <td>3.0</td>\n",
              "      <td>2.0</td>\n",
              "      <td>0</td>\n",
              "    </tr>\n",
              "    <tr>\n",
              "      <th>128835</th>\n",
              "      <td>415589</td>\n",
              "      <td>2017-07-09 21:28</td>\n",
              "      <td>370576</td>\n",
              "      <td>J</td>\n",
              "      <td>404347</td>\n",
              "      <td>53587</td>\n",
              "      <td>1</td>\n",
              "      <td>NaN</td>\n",
              "      <td>1.0</td>\n",
              "      <td>Male</td>\n",
              "      <td>1.0</td>\n",
              "      <td>3.0</td>\n",
              "      <td>3.0</td>\n",
              "      <td>0</td>\n",
              "    </tr>\n",
              "    <tr>\n",
              "      <th>128836</th>\n",
              "      <td>585703</td>\n",
              "      <td>2017-07-09 21:28</td>\n",
              "      <td>152269</td>\n",
              "      <td>H</td>\n",
              "      <td>118601</td>\n",
              "      <td>28529</td>\n",
              "      <td>5</td>\n",
              "      <td>82527.0</td>\n",
              "      <td>1.0</td>\n",
              "      <td>Male</td>\n",
              "      <td>1.0</td>\n",
              "      <td>3.0</td>\n",
              "      <td>2.0</td>\n",
              "      <td>0</td>\n",
              "    </tr>\n",
              "    <tr>\n",
              "      <th>128837</th>\n",
              "      <td>516578</td>\n",
              "      <td>2017-07-09 21:28</td>\n",
              "      <td>152269</td>\n",
              "      <td>A</td>\n",
              "      <td>405490</td>\n",
              "      <td>60305</td>\n",
              "      <td>2</td>\n",
              "      <td>NaN</td>\n",
              "      <td>1.0</td>\n",
              "      <td>Male</td>\n",
              "      <td>1.0</td>\n",
              "      <td>3.0</td>\n",
              "      <td>2.0</td>\n",
              "      <td>0</td>\n",
              "    </tr>\n",
              "    <tr>\n",
              "      <th>128838</th>\n",
              "      <td>139725</td>\n",
              "      <td>2017-07-09 21:28</td>\n",
              "      <td>689778</td>\n",
              "      <td>C</td>\n",
              "      <td>359520</td>\n",
              "      <td>13787</td>\n",
              "      <td>4</td>\n",
              "      <td>NaN</td>\n",
              "      <td>2.0</td>\n",
              "      <td>Male</td>\n",
              "      <td>2.0</td>\n",
              "      <td>3.0</td>\n",
              "      <td>2.0</td>\n",
              "      <td>0</td>\n",
              "    </tr>\n",
              "    <tr>\n",
              "      <th>128839</th>\n",
              "      <td>574168</td>\n",
              "      <td>2017-07-09 21:28</td>\n",
              "      <td>428466</td>\n",
              "      <td>H</td>\n",
              "      <td>118601</td>\n",
              "      <td>28529</td>\n",
              "      <td>5</td>\n",
              "      <td>82527.0</td>\n",
              "      <td>2.0</td>\n",
              "      <td>Male</td>\n",
              "      <td>2.0</td>\n",
              "      <td>3.0</td>\n",
              "      <td>2.0</td>\n",
              "      <td>0</td>\n",
              "    </tr>\n",
              "    <tr>\n",
              "      <th>128840</th>\n",
              "      <td>559393</td>\n",
              "      <td>2017-07-09 21:28</td>\n",
              "      <td>367411</td>\n",
              "      <td>H</td>\n",
              "      <td>118601</td>\n",
              "      <td>28529</td>\n",
              "      <td>5</td>\n",
              "      <td>82527.0</td>\n",
              "      <td>2.0</td>\n",
              "      <td>Male</td>\n",
              "      <td>2.0</td>\n",
              "      <td>3.0</td>\n",
              "      <td>2.0</td>\n",
              "      <td>0</td>\n",
              "    </tr>\n",
              "    <tr>\n",
              "      <th>128841</th>\n",
              "      <td>567265</td>\n",
              "      <td>2017-07-09 21:28</td>\n",
              "      <td>149060</td>\n",
              "      <td>H</td>\n",
              "      <td>118601</td>\n",
              "      <td>28529</td>\n",
              "      <td>5</td>\n",
              "      <td>82527.0</td>\n",
              "      <td>2.0</td>\n",
              "      <td>Male</td>\n",
              "      <td>2.0</td>\n",
              "      <td>3.0</td>\n",
              "      <td>2.0</td>\n",
              "      <td>0</td>\n",
              "    </tr>\n",
              "    <tr>\n",
              "      <th>128842</th>\n",
              "      <td>349453</td>\n",
              "      <td>2017-07-09 21:28</td>\n",
              "      <td>179732</td>\n",
              "      <td>H</td>\n",
              "      <td>414149</td>\n",
              "      <td>45962</td>\n",
              "      <td>5</td>\n",
              "      <td>NaN</td>\n",
              "      <td>9.0</td>\n",
              "      <td>Female</td>\n",
              "      <td>3.0</td>\n",
              "      <td>3.0</td>\n",
              "      <td>4.0</td>\n",
              "      <td>1</td>\n",
              "    </tr>\n",
              "    <tr>\n",
              "      <th>128843</th>\n",
              "      <td>396688</td>\n",
              "      <td>2017-07-09 21:28</td>\n",
              "      <td>588662</td>\n",
              "      <td>I</td>\n",
              "      <td>118601</td>\n",
              "      <td>28529</td>\n",
              "      <td>3</td>\n",
              "      <td>82527.0</td>\n",
              "      <td>NaN</td>\n",
              "      <td>NaN</td>\n",
              "      <td>NaN</td>\n",
              "      <td>NaN</td>\n",
              "      <td>NaN</td>\n",
              "      <td>0</td>\n",
              "    </tr>\n",
              "    <tr>\n",
              "      <th>128844</th>\n",
              "      <td>433931</td>\n",
              "      <td>2017-07-09 21:29</td>\n",
              "      <td>454295</td>\n",
              "      <td>I</td>\n",
              "      <td>82320</td>\n",
              "      <td>1734</td>\n",
              "      <td>1</td>\n",
              "      <td>146115.0</td>\n",
              "      <td>5.0</td>\n",
              "      <td>Male</td>\n",
              "      <td>5.0</td>\n",
              "      <td>3.0</td>\n",
              "      <td>4.0</td>\n",
              "      <td>0</td>\n",
              "    </tr>\n",
              "    <tr>\n",
              "      <th>128845</th>\n",
              "      <td>579307</td>\n",
              "      <td>2017-07-09 21:29</td>\n",
              "      <td>712753</td>\n",
              "      <td>H</td>\n",
              "      <td>118601</td>\n",
              "      <td>28529</td>\n",
              "      <td>5</td>\n",
              "      <td>82527.0</td>\n",
              "      <td>2.0</td>\n",
              "      <td>Male</td>\n",
              "      <td>2.0</td>\n",
              "      <td>3.0</td>\n",
              "      <td>NaN</td>\n",
              "      <td>0</td>\n",
              "    </tr>\n",
              "    <tr>\n",
              "      <th>128846</th>\n",
              "      <td>137109</td>\n",
              "      <td>2017-07-09 21:29</td>\n",
              "      <td>680418</td>\n",
              "      <td>C</td>\n",
              "      <td>359520</td>\n",
              "      <td>13787</td>\n",
              "      <td>4</td>\n",
              "      <td>NaN</td>\n",
              "      <td>3.0</td>\n",
              "      <td>Male</td>\n",
              "      <td>3.0</td>\n",
              "      <td>3.0</td>\n",
              "      <td>3.0</td>\n",
              "      <td>0</td>\n",
              "    </tr>\n",
              "    <tr>\n",
              "      <th>128847</th>\n",
              "      <td>384407</td>\n",
              "      <td>2017-07-09 21:29</td>\n",
              "      <td>75436</td>\n",
              "      <td>G</td>\n",
              "      <td>98970</td>\n",
              "      <td>6970</td>\n",
              "      <td>3</td>\n",
              "      <td>NaN</td>\n",
              "      <td>2.0</td>\n",
              "      <td>Male</td>\n",
              "      <td>2.0</td>\n",
              "      <td>3.0</td>\n",
              "      <td>3.0</td>\n",
              "      <td>0</td>\n",
              "    </tr>\n",
              "    <tr>\n",
              "      <th>128848</th>\n",
              "      <td>88077</td>\n",
              "      <td>2017-07-09 21:29</td>\n",
              "      <td>806522</td>\n",
              "      <td>C</td>\n",
              "      <td>405490</td>\n",
              "      <td>60305</td>\n",
              "      <td>3</td>\n",
              "      <td>NaN</td>\n",
              "      <td>2.0</td>\n",
              "      <td>Male</td>\n",
              "      <td>2.0</td>\n",
              "      <td>3.0</td>\n",
              "      <td>3.0</td>\n",
              "      <td>0</td>\n",
              "    </tr>\n",
              "    <tr>\n",
              "      <th>128849</th>\n",
              "      <td>25626</td>\n",
              "      <td>2017-07-09 21:29</td>\n",
              "      <td>718811</td>\n",
              "      <td>E</td>\n",
              "      <td>98970</td>\n",
              "      <td>6970</td>\n",
              "      <td>2</td>\n",
              "      <td>NaN</td>\n",
              "      <td>1.0</td>\n",
              "      <td>Male</td>\n",
              "      <td>1.0</td>\n",
              "      <td>3.0</td>\n",
              "      <td>NaN</td>\n",
              "      <td>0</td>\n",
              "    </tr>\n",
              "    <tr>\n",
              "      <th>128850</th>\n",
              "      <td>463740</td>\n",
              "      <td>2017-07-09 21:29</td>\n",
              "      <td>615119</td>\n",
              "      <td>D</td>\n",
              "      <td>98970</td>\n",
              "      <td>6970</td>\n",
              "      <td>4</td>\n",
              "      <td>NaN</td>\n",
              "      <td>10.0</td>\n",
              "      <td>Female</td>\n",
              "      <td>4.0</td>\n",
              "      <td>3.0</td>\n",
              "      <td>3.0</td>\n",
              "      <td>0</td>\n",
              "    </tr>\n",
              "    <tr>\n",
              "      <th>128851</th>\n",
              "      <td>225111</td>\n",
              "      <td>2017-07-09 21:29</td>\n",
              "      <td>35992</td>\n",
              "      <td>H</td>\n",
              "      <td>396664</td>\n",
              "      <td>51181</td>\n",
              "      <td>1</td>\n",
              "      <td>NaN</td>\n",
              "      <td>3.0</td>\n",
              "      <td>Male</td>\n",
              "      <td>3.0</td>\n",
              "      <td>3.0</td>\n",
              "      <td>3.0</td>\n",
              "      <td>0</td>\n",
              "    </tr>\n",
              "    <tr>\n",
              "      <th>128852</th>\n",
              "      <td>575270</td>\n",
              "      <td>2017-07-09 21:29</td>\n",
              "      <td>516834</td>\n",
              "      <td>H</td>\n",
              "      <td>118601</td>\n",
              "      <td>28529</td>\n",
              "      <td>5</td>\n",
              "      <td>82527.0</td>\n",
              "      <td>2.0</td>\n",
              "      <td>Male</td>\n",
              "      <td>2.0</td>\n",
              "      <td>3.0</td>\n",
              "      <td>2.0</td>\n",
              "      <td>0</td>\n",
              "    </tr>\n",
              "    <tr>\n",
              "      <th>128853</th>\n",
              "      <td>215328</td>\n",
              "      <td>2017-07-09 21:29</td>\n",
              "      <td>252148</td>\n",
              "      <td>B</td>\n",
              "      <td>414149</td>\n",
              "      <td>45962</td>\n",
              "      <td>2</td>\n",
              "      <td>254132.0</td>\n",
              "      <td>2.0</td>\n",
              "      <td>Male</td>\n",
              "      <td>2.0</td>\n",
              "      <td>3.0</td>\n",
              "      <td>4.0</td>\n",
              "      <td>0</td>\n",
              "    </tr>\n",
              "    <tr>\n",
              "      <th>128854</th>\n",
              "      <td>282232</td>\n",
              "      <td>2017-07-09 21:29</td>\n",
              "      <td>47955</td>\n",
              "      <td>D</td>\n",
              "      <td>98970</td>\n",
              "      <td>6970</td>\n",
              "      <td>4</td>\n",
              "      <td>NaN</td>\n",
              "      <td>1.0</td>\n",
              "      <td>Male</td>\n",
              "      <td>1.0</td>\n",
              "      <td>3.0</td>\n",
              "      <td>NaN</td>\n",
              "      <td>0</td>\n",
              "    </tr>\n",
              "    <tr>\n",
              "      <th>128855</th>\n",
              "      <td>140499</td>\n",
              "      <td>2017-07-09 21:29</td>\n",
              "      <td>314236</td>\n",
              "      <td>C</td>\n",
              "      <td>359520</td>\n",
              "      <td>13787</td>\n",
              "      <td>4</td>\n",
              "      <td>NaN</td>\n",
              "      <td>2.0</td>\n",
              "      <td>Male</td>\n",
              "      <td>2.0</td>\n",
              "      <td>3.0</td>\n",
              "      <td>NaN</td>\n",
              "      <td>0</td>\n",
              "    </tr>\n",
              "    <tr>\n",
              "      <th>128856</th>\n",
              "      <td>531038</td>\n",
              "      <td>2017-07-09 21:29</td>\n",
              "      <td>988544</td>\n",
              "      <td>E</td>\n",
              "      <td>98970</td>\n",
              "      <td>6970</td>\n",
              "      <td>2</td>\n",
              "      <td>NaN</td>\n",
              "      <td>2.0</td>\n",
              "      <td>Male</td>\n",
              "      <td>2.0</td>\n",
              "      <td>3.0</td>\n",
              "      <td>NaN</td>\n",
              "      <td>0</td>\n",
              "    </tr>\n",
              "    <tr>\n",
              "      <th>128857</th>\n",
              "      <td>349998</td>\n",
              "      <td>2017-07-09 21:29</td>\n",
              "      <td>409394</td>\n",
              "      <td>H</td>\n",
              "      <td>414149</td>\n",
              "      <td>45962</td>\n",
              "      <td>5</td>\n",
              "      <td>NaN</td>\n",
              "      <td>2.0</td>\n",
              "      <td>Male</td>\n",
              "      <td>2.0</td>\n",
              "      <td>3.0</td>\n",
              "      <td>3.0</td>\n",
              "      <td>0</td>\n",
              "    </tr>\n",
              "  </tbody>\n",
              "</table>\n",
              "<p>128858 rows × 14 columns</p>\n",
              "</div>"
            ]
          },
          "metadata": {
            "tags": []
          },
          "execution_count": 167
        }
      ]
    },
    {
      "cell_type": "code",
      "metadata": {
        "id": "4BYEwkIM_oBp"
      },
      "source": [
        "final = pd.DataFrame(test['session_id'], output).reset_index()"
      ],
      "execution_count": 172,
      "outputs": []
    },
    {
      "cell_type": "code",
      "metadata": {
        "id": "Chk-aqwu_oBp"
      },
      "source": [
        "final.to_csv(\"result_amex.csv\")"
      ],
      "execution_count": 173,
      "outputs": []
    }
  ]
}